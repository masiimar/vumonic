{
 "cells": [
  {
   "cell_type": "code",
   "execution_count": 11,
   "metadata": {},
   "outputs": [],
   "source": [
    "import pandas as pd\n",
    "import matplotlib.pyplot as plt\n",
    "import seaborn as sns\n",
    "import numpy as np\n",
    "import matplotlib.dates as mdates"
   ]
  },
  {
   "cell_type": "code",
   "execution_count": 13,
   "metadata": {},
   "outputs": [],
   "source": [
    "vumonic_data = pd.read_csv(\"datasets/vumonic_data.csv\")"
   ]
  },
  {
   "cell_type": "code",
   "execution_count": 14,
   "metadata": {},
   "outputs": [
    {
     "data": {
      "text/html": [
       "<div>\n",
       "<style scoped>\n",
       "    .dataframe tbody tr th:only-of-type {\n",
       "        vertical-align: middle;\n",
       "    }\n",
       "\n",
       "    .dataframe tbody tr th {\n",
       "        vertical-align: top;\n",
       "    }\n",
       "\n",
       "    .dataframe thead th {\n",
       "        text-align: right;\n",
       "    }\n",
       "</style>\n",
       "<table border=\"1\" class=\"dataframe\">\n",
       "  <thead>\n",
       "    <tr style=\"text-align: right;\">\n",
       "      <th></th>\n",
       "      <th>user_code</th>\n",
       "      <th>transaction_code</th>\n",
       "      <th>product_seq</th>\n",
       "      <th>ordered_on</th>\n",
       "      <th>category</th>\n",
       "      <th>cat0fk</th>\n",
       "      <th>cat0</th>\n",
       "      <th>brand</th>\n",
       "      <th>product_name</th>\n",
       "      <th>unit_price</th>\n",
       "      <th>...</th>\n",
       "      <th>image</th>\n",
       "      <th>country_code</th>\n",
       "      <th>district</th>\n",
       "      <th>district_grp</th>\n",
       "      <th>state</th>\n",
       "      <th>zone</th>\n",
       "      <th>metro</th>\n",
       "      <th>tier</th>\n",
       "      <th>postal_code_base</th>\n",
       "      <th>tier_base</th>\n",
       "    </tr>\n",
       "  </thead>\n",
       "  <tbody>\n",
       "    <tr>\n",
       "      <th>0</th>\n",
       "      <td>csi116xw</td>\n",
       "      <td>AM-00000000116XCSI0</td>\n",
       "      <td>1</td>\n",
       "      <td>2020-02-19 17:37:12+00:00</td>\n",
       "      <td>mobile accessory</td>\n",
       "      <td>Electronics</td>\n",
       "      <td>Electronics</td>\n",
       "      <td>NaN</td>\n",
       "      <td>(Renewed) OnePlus Bullets Wireless 2 (Black)</td>\n",
       "      <td>3200.0</td>\n",
       "      <td>...</td>\n",
       "      <td>https://images-na.ssl-images-amazon.com/images...</td>\n",
       "      <td>in</td>\n",
       "      <td>muzaffarnagar</td>\n",
       "      <td>muzaffarnagar</td>\n",
       "      <td>uttar pradesh</td>\n",
       "      <td>north</td>\n",
       "      <td>no</td>\n",
       "      <td>tier3</td>\n",
       "      <td>110008</td>\n",
       "      <td>tier1</td>\n",
       "    </tr>\n",
       "    <tr>\n",
       "      <th>1</th>\n",
       "      <td>ct70dgb9</td>\n",
       "      <td>AM-000000000DGBCT71</td>\n",
       "      <td>1</td>\n",
       "      <td>2019-10-08 17:25:49+00:00</td>\n",
       "      <td>mobile accessory</td>\n",
       "      <td>Electronics</td>\n",
       "      <td>Electronics</td>\n",
       "      <td>cable hunter</td>\n",
       "      <td>Cable Hunter USB 3.1 5Gbps Type C Card Reader</td>\n",
       "      <td>434.0</td>\n",
       "      <td>...</td>\n",
       "      <td>https://images-na.ssl-images-amazon.com/images...</td>\n",
       "      <td>in</td>\n",
       "      <td>chennai</td>\n",
       "      <td>chennai</td>\n",
       "      <td>tamil nadu</td>\n",
       "      <td>south</td>\n",
       "      <td>yes</td>\n",
       "      <td>tier1</td>\n",
       "      <td>600004</td>\n",
       "      <td>tier1</td>\n",
       "    </tr>\n",
       "    <tr>\n",
       "      <th>2</th>\n",
       "      <td>ct70dgb9</td>\n",
       "      <td>AM-000000000DGBCT71</td>\n",
       "      <td>2</td>\n",
       "      <td>2019-10-08 17:25:49+00:00</td>\n",
       "      <td>men footwear</td>\n",
       "      <td>LifeStyle</td>\n",
       "      <td>Apparel &amp; Accessories</td>\n",
       "      <td>red tape</td>\n",
       "      <td>Red Tape Men's RTE1183 Tan Leather Formal Shoe...</td>\n",
       "      <td>1473.0</td>\n",
       "      <td>...</td>\n",
       "      <td>https://images-na.ssl-images-amazon.com/images...</td>\n",
       "      <td>in</td>\n",
       "      <td>chennai</td>\n",
       "      <td>chennai</td>\n",
       "      <td>tamil nadu</td>\n",
       "      <td>south</td>\n",
       "      <td>yes</td>\n",
       "      <td>tier1</td>\n",
       "      <td>600004</td>\n",
       "      <td>tier1</td>\n",
       "    </tr>\n",
       "    <tr>\n",
       "      <th>3</th>\n",
       "      <td>ct70dgb9</td>\n",
       "      <td>AM-000000000DGBCT71</td>\n",
       "      <td>3</td>\n",
       "      <td>2019-10-08 17:25:49+00:00</td>\n",
       "      <td>memory card, pen drive</td>\n",
       "      <td>Electronics</td>\n",
       "      <td>Electronics</td>\n",
       "      <td>strontium</td>\n",
       "      <td>Strontium Nitro A1 32GB Micro SDHC Memory Card...</td>\n",
       "      <td>299.0</td>\n",
       "      <td>...</td>\n",
       "      <td>https://images-na.ssl-images-amazon.com/images...</td>\n",
       "      <td>in</td>\n",
       "      <td>chennai</td>\n",
       "      <td>chennai</td>\n",
       "      <td>tamil nadu</td>\n",
       "      <td>south</td>\n",
       "      <td>yes</td>\n",
       "      <td>tier1</td>\n",
       "      <td>600004</td>\n",
       "      <td>tier1</td>\n",
       "    </tr>\n",
       "    <tr>\n",
       "      <th>4</th>\n",
       "      <td>ct70dgb9</td>\n",
       "      <td>AM-000000000DGBCT72</td>\n",
       "      <td>1</td>\n",
       "      <td>2019-10-08 18:11:21+00:00</td>\n",
       "      <td>inverter</td>\n",
       "      <td>BGM</td>\n",
       "      <td>Office Supplies</td>\n",
       "      <td>NaN</td>\n",
       "      <td>World Map</td>\n",
       "      <td>98.0</td>\n",
       "      <td>...</td>\n",
       "      <td>https://images-na.ssl-images-amazon.com/images...</td>\n",
       "      <td>in</td>\n",
       "      <td>chennai</td>\n",
       "      <td>chennai</td>\n",
       "      <td>tamil nadu</td>\n",
       "      <td>south</td>\n",
       "      <td>yes</td>\n",
       "      <td>tier1</td>\n",
       "      <td>600004</td>\n",
       "      <td>tier1</td>\n",
       "    </tr>\n",
       "  </tbody>\n",
       "</table>\n",
       "<p>5 rows × 29 columns</p>\n",
       "</div>"
      ],
      "text/plain": [
       "  user_code     transaction_code  product_seq                 ordered_on  \\\n",
       "0  csi116xw  AM-00000000116XCSI0            1  2020-02-19 17:37:12+00:00   \n",
       "1  ct70dgb9  AM-000000000DGBCT71            1  2019-10-08 17:25:49+00:00   \n",
       "2  ct70dgb9  AM-000000000DGBCT71            2  2019-10-08 17:25:49+00:00   \n",
       "3  ct70dgb9  AM-000000000DGBCT71            3  2019-10-08 17:25:49+00:00   \n",
       "4  ct70dgb9  AM-000000000DGBCT72            1  2019-10-08 18:11:21+00:00   \n",
       "\n",
       "                 category       cat0fk                   cat0         brand  \\\n",
       "0        mobile accessory  Electronics            Electronics           NaN   \n",
       "1        mobile accessory  Electronics            Electronics  cable hunter   \n",
       "2            men footwear    LifeStyle  Apparel & Accessories      red tape   \n",
       "3  memory card, pen drive  Electronics            Electronics     strontium   \n",
       "4                inverter          BGM        Office Supplies           NaN   \n",
       "\n",
       "                                        product_name  unit_price  ...  \\\n",
       "0       (Renewed) OnePlus Bullets Wireless 2 (Black)      3200.0  ...   \n",
       "1      Cable Hunter USB 3.1 5Gbps Type C Card Reader       434.0  ...   \n",
       "2  Red Tape Men's RTE1183 Tan Leather Formal Shoe...      1473.0  ...   \n",
       "3  Strontium Nitro A1 32GB Micro SDHC Memory Card...       299.0  ...   \n",
       "4                                          World Map        98.0  ...   \n",
       "\n",
       "                                               image  country_code  \\\n",
       "0  https://images-na.ssl-images-amazon.com/images...            in   \n",
       "1  https://images-na.ssl-images-amazon.com/images...            in   \n",
       "2  https://images-na.ssl-images-amazon.com/images...            in   \n",
       "3  https://images-na.ssl-images-amazon.com/images...            in   \n",
       "4  https://images-na.ssl-images-amazon.com/images...            in   \n",
       "\n",
       "        district   district_grp          state   zone metro   tier  \\\n",
       "0  muzaffarnagar  muzaffarnagar  uttar pradesh  north    no  tier3   \n",
       "1        chennai        chennai     tamil nadu  south   yes  tier1   \n",
       "2        chennai        chennai     tamil nadu  south   yes  tier1   \n",
       "3        chennai        chennai     tamil nadu  south   yes  tier1   \n",
       "4        chennai        chennai     tamil nadu  south   yes  tier1   \n",
       "\n",
       "   postal_code_base tier_base  \n",
       "0            110008     tier1  \n",
       "1            600004     tier1  \n",
       "2            600004     tier1  \n",
       "3            600004     tier1  \n",
       "4            600004     tier1  \n",
       "\n",
       "[5 rows x 29 columns]"
      ]
     },
     "execution_count": 14,
     "metadata": {},
     "output_type": "execute_result"
    }
   ],
   "source": [
    "vumonic_data.head()"
   ]
  },
  {
   "cell_type": "code",
   "execution_count": 32,
   "metadata": {},
   "outputs": [],
   "source": [
    "amazon = vumonic_data.loc[vumonic_data[\"platform\"] == \"amazon\"] #amazon data df"
   ]
  },
  {
   "cell_type": "code",
   "execution_count": 33,
   "metadata": {},
   "outputs": [],
   "source": [
    "amazon_samp = amazon.sample(n = 111051, replace = False) #taking a sample of data so the size of the data is same for amazon and flipkart"
   ]
  },
  {
   "cell_type": "code",
   "execution_count": 34,
   "metadata": {},
   "outputs": [],
   "source": [
    "amazon_samp[\"num_of_purch\"] = 1"
   ]
  },
  {
   "cell_type": "code",
   "execution_count": 35,
   "metadata": {},
   "outputs": [],
   "source": [
    "#amazon_samp = amazon_samp.groupby(\"user_code\").sum().sort_values(\"num_of_purch\", ascending = False) #how many purchases each customer did "
   ]
  },
  {
   "cell_type": "code",
   "execution_count": 36,
   "metadata": {},
   "outputs": [
    {
     "data": {
      "text/html": [
       "<div>\n",
       "<style scoped>\n",
       "    .dataframe tbody tr th:only-of-type {\n",
       "        vertical-align: middle;\n",
       "    }\n",
       "\n",
       "    .dataframe tbody tr th {\n",
       "        vertical-align: top;\n",
       "    }\n",
       "\n",
       "    .dataframe thead th {\n",
       "        text-align: right;\n",
       "    }\n",
       "</style>\n",
       "<table border=\"1\" class=\"dataframe\">\n",
       "  <thead>\n",
       "    <tr style=\"text-align: right;\">\n",
       "      <th></th>\n",
       "      <th>user_code</th>\n",
       "      <th>transaction_code</th>\n",
       "      <th>product_seq</th>\n",
       "      <th>ordered_on</th>\n",
       "      <th>category</th>\n",
       "      <th>cat0fk</th>\n",
       "      <th>cat0</th>\n",
       "      <th>brand</th>\n",
       "      <th>product_name</th>\n",
       "      <th>unit_price</th>\n",
       "      <th>...</th>\n",
       "      <th>country_code</th>\n",
       "      <th>district</th>\n",
       "      <th>district_grp</th>\n",
       "      <th>state</th>\n",
       "      <th>zone</th>\n",
       "      <th>metro</th>\n",
       "      <th>tier</th>\n",
       "      <th>postal_code_base</th>\n",
       "      <th>tier_base</th>\n",
       "      <th>num_of_purch</th>\n",
       "    </tr>\n",
       "  </thead>\n",
       "  <tbody>\n",
       "    <tr>\n",
       "      <th>100679</th>\n",
       "      <td>crw0apxb</td>\n",
       "      <td>AM-00000APX21084184</td>\n",
       "      <td>5</td>\n",
       "      <td>2019-11-06 08:41:10+00:00</td>\n",
       "      <td>dal, pulse</td>\n",
       "      <td>BGM</td>\n",
       "      <td>Food, Beverages &amp; Tobacco</td>\n",
       "      <td>tata sampann</td>\n",
       "      <td>Tata Sampann Kala Chana, 1kg</td>\n",
       "      <td>209.0</td>\n",
       "      <td>...</td>\n",
       "      <td>in</td>\n",
       "      <td>thane</td>\n",
       "      <td>mumbai mpr</td>\n",
       "      <td>maharashtra</td>\n",
       "      <td>west</td>\n",
       "      <td>yes</td>\n",
       "      <td>tier1</td>\n",
       "      <td>400071</td>\n",
       "      <td>tier1</td>\n",
       "      <td>1</td>\n",
       "    </tr>\n",
       "    <tr>\n",
       "      <th>22619</th>\n",
       "      <td>crspte2o</td>\n",
       "      <td>AM-0000PTE2RSP18816</td>\n",
       "      <td>1</td>\n",
       "      <td>2019-10-22 11:20:26+00:00</td>\n",
       "      <td>craft material</td>\n",
       "      <td>BGM</td>\n",
       "      <td>Arts &amp; Entertainment</td>\n",
       "      <td>camel</td>\n",
       "      <td>Camel Kokuyo Artists Fixative Spray, 200ml</td>\n",
       "      <td>250.0</td>\n",
       "      <td>...</td>\n",
       "      <td>in</td>\n",
       "      <td>central delhi</td>\n",
       "      <td>delhi ncr</td>\n",
       "      <td>delhi</td>\n",
       "      <td>north</td>\n",
       "      <td>yes</td>\n",
       "      <td>tier1</td>\n",
       "      <td>110008</td>\n",
       "      <td>tier1</td>\n",
       "      <td>1</td>\n",
       "    </tr>\n",
       "    <tr>\n",
       "      <th>86235</th>\n",
       "      <td>crpe6f03</td>\n",
       "      <td>AM-0000E6F080671977</td>\n",
       "      <td>2</td>\n",
       "      <td>2020-01-09 00:09:14+00:00</td>\n",
       "      <td>skin, face care</td>\n",
       "      <td>BGM</td>\n",
       "      <td>Health &amp; Beauty</td>\n",
       "      <td>speaking tree</td>\n",
       "      <td>Speaking Tree Exfoliating Coffee Handmade Soap...</td>\n",
       "      <td>160.0</td>\n",
       "      <td>...</td>\n",
       "      <td>in</td>\n",
       "      <td>salem</td>\n",
       "      <td>salem</td>\n",
       "      <td>tamil nadu</td>\n",
       "      <td>south</td>\n",
       "      <td>no</td>\n",
       "      <td>tier3</td>\n",
       "      <td>NaN</td>\n",
       "      <td>NaN</td>\n",
       "      <td>1</td>\n",
       "    </tr>\n",
       "    <tr>\n",
       "      <th>72427</th>\n",
       "      <td>cs9zg41w</td>\n",
       "      <td>AM-0000ZG4153160333</td>\n",
       "      <td>1</td>\n",
       "      <td>2020-01-13 04:27:39+00:00</td>\n",
       "      <td>cookware</td>\n",
       "      <td>Home</td>\n",
       "      <td>Home &amp; Garden</td>\n",
       "      <td>cello</td>\n",
       "      <td>Cello Non-Stick 12 Cavity Appam Patra with Sta...</td>\n",
       "      <td>549.0</td>\n",
       "      <td>...</td>\n",
       "      <td>in</td>\n",
       "      <td>ahmedabad</td>\n",
       "      <td>ahmedabad</td>\n",
       "      <td>gujarat</td>\n",
       "      <td>west</td>\n",
       "      <td>yes</td>\n",
       "      <td>tier1</td>\n",
       "      <td>NaN</td>\n",
       "      <td>NaN</td>\n",
       "      <td>1</td>\n",
       "    </tr>\n",
       "    <tr>\n",
       "      <th>37823</th>\n",
       "      <td>ct02lbuk</td>\n",
       "      <td>AM-00002LBU13931389</td>\n",
       "      <td>2</td>\n",
       "      <td>2020-01-28 23:27:30+00:00</td>\n",
       "      <td>~others</td>\n",
       "      <td>BGM</td>\n",
       "      <td>Baby &amp; Toddler</td>\n",
       "      <td>syga</td>\n",
       "      <td>SYGA Manual Breast Pump with Feeding Nipple</td>\n",
       "      <td>299.0</td>\n",
       "      <td>...</td>\n",
       "      <td>in</td>\n",
       "      <td>krishna</td>\n",
       "      <td>krishna</td>\n",
       "      <td>andhra pradesh</td>\n",
       "      <td>south</td>\n",
       "      <td>yes</td>\n",
       "      <td>tier2</td>\n",
       "      <td>500001</td>\n",
       "      <td>tier1</td>\n",
       "      <td>1</td>\n",
       "    </tr>\n",
       "  </tbody>\n",
       "</table>\n",
       "<p>5 rows × 30 columns</p>\n",
       "</div>"
      ],
      "text/plain": [
       "       user_code     transaction_code  product_seq                 ordered_on  \\\n",
       "100679  crw0apxb  AM-00000APX21084184            5  2019-11-06 08:41:10+00:00   \n",
       "22619   crspte2o  AM-0000PTE2RSP18816            1  2019-10-22 11:20:26+00:00   \n",
       "86235   crpe6f03  AM-0000E6F080671977            2  2020-01-09 00:09:14+00:00   \n",
       "72427   cs9zg41w  AM-0000ZG4153160333            1  2020-01-13 04:27:39+00:00   \n",
       "37823   ct02lbuk  AM-00002LBU13931389            2  2020-01-28 23:27:30+00:00   \n",
       "\n",
       "               category cat0fk                       cat0          brand  \\\n",
       "100679       dal, pulse    BGM  Food, Beverages & Tobacco   tata sampann   \n",
       "22619    craft material    BGM       Arts & Entertainment          camel   \n",
       "86235   skin, face care    BGM            Health & Beauty  speaking tree   \n",
       "72427          cookware   Home              Home & Garden          cello   \n",
       "37823           ~others    BGM             Baby & Toddler           syga   \n",
       "\n",
       "                                             product_name  unit_price  ...  \\\n",
       "100679                       Tata Sampann Kala Chana, 1kg       209.0  ...   \n",
       "22619          Camel Kokuyo Artists Fixative Spray, 200ml       250.0  ...   \n",
       "86235   Speaking Tree Exfoliating Coffee Handmade Soap...       160.0  ...   \n",
       "72427   Cello Non-Stick 12 Cavity Appam Patra with Sta...       549.0  ...   \n",
       "37823         SYGA Manual Breast Pump with Feeding Nipple       299.0  ...   \n",
       "\n",
       "        country_code       district district_grp           state   zone  \\\n",
       "100679            in          thane   mumbai mpr     maharashtra   west   \n",
       "22619             in  central delhi    delhi ncr           delhi  north   \n",
       "86235             in          salem        salem      tamil nadu  south   \n",
       "72427             in      ahmedabad    ahmedabad         gujarat   west   \n",
       "37823             in        krishna      krishna  andhra pradesh  south   \n",
       "\n",
       "        metro   tier postal_code_base  tier_base num_of_purch  \n",
       "100679    yes  tier1           400071      tier1            1  \n",
       "22619     yes  tier1           110008      tier1            1  \n",
       "86235      no  tier3              NaN        NaN            1  \n",
       "72427     yes  tier1              NaN        NaN            1  \n",
       "37823     yes  tier2           500001      tier1            1  \n",
       "\n",
       "[5 rows x 30 columns]"
      ]
     },
     "execution_count": 36,
     "metadata": {},
     "output_type": "execute_result"
    }
   ],
   "source": [
    "amazon_samp.head()"
   ]
  },
  {
   "cell_type": "code",
   "execution_count": 37,
   "metadata": {},
   "outputs": [],
   "source": [
    "amazon_samp = amazon_samp.sort_values(by=\"ordered_on\", ascending=False)"
   ]
  },
  {
   "cell_type": "code",
   "execution_count": 39,
   "metadata": {
    "collapsed": true,
    "jupyter": {
     "outputs_hidden": true
    }
   },
   "outputs": [
    {
     "data": {
      "text/plain": [
       "maharashtra                  22010\n",
       "karnataka                    15819\n",
       "uttar pradesh                13134\n",
       "tamil nadu                   12352\n",
       "telangana                    10047\n",
       "west bengal                   9649\n",
       "delhi                         9116\n",
       "gujarat                       7595\n",
       "andhra pradesh                6919\n",
       "haryana                       6020\n",
       "rajasthan                     5604\n",
       "madhya pradesh                4061\n",
       "bihar                         4026\n",
       "odisha                        3527\n",
       "kerala                        3386\n",
       "punjab                        3224\n",
       "jharkhand                     2101\n",
       "assam                         1835\n",
       "uttarakhand                   1494\n",
       "chattisgarh                   1264\n",
       "himachal pradesh               743\n",
       "goa                            589\n",
       "jammu & kashmir                467\n",
       "chandigarh                     411\n",
       "manipur                        338\n",
       "tripura                        269\n",
       "meghalaya                      240\n",
       "pondicherry                    215\n",
       "nagaland                       213\n",
       "mizoram                        201\n",
       "sikkim                         106\n",
       "dadra & nagar haveli            90\n",
       "daman & diu                     65\n",
       "arunachal pradesh               43\n",
       "andaman & nicobar islands       22\n",
       "lakshadweep                     12\n",
       "Name: state, dtype: int64"
      ]
     },
     "execution_count": 39,
     "metadata": {},
     "output_type": "execute_result"
    }
   ],
   "source": [
    "amazon[\"state\"].value_counts() #how many orders there where from each state"
   ]
  },
  {
   "cell_type": "code",
   "execution_count": 23,
   "metadata": {},
   "outputs": [],
   "source": [
    "flipkart = vumonic_data.loc[vumonic_data[\"platform\"] == \"flipkart\"] #flipkart transaction data"
   ]
  },
  {
   "cell_type": "code",
   "execution_count": 26,
   "metadata": {},
   "outputs": [],
   "source": [
    "flipkart = flipkart.sort_values(by=\"ordered_on\", ascending=False) #finding the first order"
   ]
  },
  {
   "cell_type": "code",
   "execution_count": 28,
   "metadata": {},
   "outputs": [
    {
     "data": {
      "text/html": [
       "<div>\n",
       "<style scoped>\n",
       "    .dataframe tbody tr th:only-of-type {\n",
       "        vertical-align: middle;\n",
       "    }\n",
       "\n",
       "    .dataframe tbody tr th {\n",
       "        vertical-align: top;\n",
       "    }\n",
       "\n",
       "    .dataframe thead th {\n",
       "        text-align: right;\n",
       "    }\n",
       "</style>\n",
       "<table border=\"1\" class=\"dataframe\">\n",
       "  <thead>\n",
       "    <tr style=\"text-align: right;\">\n",
       "      <th></th>\n",
       "      <th>user_code</th>\n",
       "      <th>transaction_code</th>\n",
       "      <th>product_seq</th>\n",
       "      <th>ordered_on</th>\n",
       "      <th>category</th>\n",
       "      <th>cat0fk</th>\n",
       "      <th>cat0</th>\n",
       "      <th>brand</th>\n",
       "      <th>product_name</th>\n",
       "      <th>unit_price</th>\n",
       "      <th>...</th>\n",
       "      <th>image</th>\n",
       "      <th>country_code</th>\n",
       "      <th>district</th>\n",
       "      <th>district_grp</th>\n",
       "      <th>state</th>\n",
       "      <th>zone</th>\n",
       "      <th>metro</th>\n",
       "      <th>tier</th>\n",
       "      <th>postal_code_base</th>\n",
       "      <th>tier_base</th>\n",
       "    </tr>\n",
       "  </thead>\n",
       "  <tbody>\n",
       "    <tr>\n",
       "      <th>258393</th>\n",
       "      <td>cse731if</td>\n",
       "      <td>FL-0000731I85077554</td>\n",
       "      <td>1</td>\n",
       "      <td>2020-03-29 06:33:05+00:00</td>\n",
       "      <td>household cleaner</td>\n",
       "      <td>Home</td>\n",
       "      <td>Home &amp; Garden</td>\n",
       "      <td>pigeon</td>\n",
       "      <td>Pigeon Enjoy Mop Mop</td>\n",
       "      <td>799.0</td>\n",
       "      <td>...</td>\n",
       "      <td>http://img.fkcdn.com/image/100/100/j6mhxu80/mo...</td>\n",
       "      <td>in</td>\n",
       "      <td>central delhi</td>\n",
       "      <td>delhi ncr</td>\n",
       "      <td>delhi</td>\n",
       "      <td>north</td>\n",
       "      <td>yes</td>\n",
       "      <td>tier1</td>\n",
       "      <td>110001</td>\n",
       "      <td>tier1</td>\n",
       "    </tr>\n",
       "    <tr>\n",
       "      <th>258392</th>\n",
       "      <td>cs6m878f</td>\n",
       "      <td>FL-0000M87876277553</td>\n",
       "      <td>1</td>\n",
       "      <td>2020-03-29 05:25:46+00:00</td>\n",
       "      <td>hand, foot care</td>\n",
       "      <td>BGM</td>\n",
       "      <td>Apparel &amp; Accessories</td>\n",
       "      <td>agaro</td>\n",
       "      <td>Agaro 33168 Foot Massager</td>\n",
       "      <td>3999.0</td>\n",
       "      <td>...</td>\n",
       "      <td>http://img.fkcdn.com/image/100/100/k3orqfk0/ma...</td>\n",
       "      <td>in</td>\n",
       "      <td>central delhi</td>\n",
       "      <td>delhi ncr</td>\n",
       "      <td>delhi</td>\n",
       "      <td>north</td>\n",
       "      <td>yes</td>\n",
       "      <td>tier1</td>\n",
       "      <td>110054</td>\n",
       "      <td>tier1</td>\n",
       "    </tr>\n",
       "    <tr>\n",
       "      <th>258391</th>\n",
       "      <td>csd0htug</td>\n",
       "      <td>FL-00000HTU71477552</td>\n",
       "      <td>1</td>\n",
       "      <td>2020-03-26 20:15:00+00:00</td>\n",
       "      <td>pet food</td>\n",
       "      <td>Home</td>\n",
       "      <td>Animals &amp; Pet Supplies</td>\n",
       "      <td>whiskas</td>\n",
       "      <td>Whiskas Adult (+1 year) Mackeral 3 kg Dry Cat ...</td>\n",
       "      <td>840.0</td>\n",
       "      <td>...</td>\n",
       "      <td>http://img.fkcdn.com/image/100/100/jj6130w0/pe...</td>\n",
       "      <td>in</td>\n",
       "      <td>new delhi</td>\n",
       "      <td>delhi ncr</td>\n",
       "      <td>delhi</td>\n",
       "      <td>north</td>\n",
       "      <td>yes</td>\n",
       "      <td>tier1</td>\n",
       "      <td>110003</td>\n",
       "      <td>tier1</td>\n",
       "    </tr>\n",
       "    <tr>\n",
       "      <th>258378</th>\n",
       "      <td>csqwmbh3</td>\n",
       "      <td>FL-0000WMBH59177551</td>\n",
       "      <td>12</td>\n",
       "      <td>2020-03-26 15:25:02+00:00</td>\n",
       "      <td>noodle, pasta, vermicelli</td>\n",
       "      <td>BGM</td>\n",
       "      <td>Food, Beverages &amp; Tobacco</td>\n",
       "      <td>yippee</td>\n",
       "      <td>Yippee Cheese Treat Pasta</td>\n",
       "      <td>75.0</td>\n",
       "      <td>...</td>\n",
       "      <td>http://img.fkcdn.com/image/100/100/k6ci8i80/pa...</td>\n",
       "      <td>in</td>\n",
       "      <td>south east delhi</td>\n",
       "      <td>delhi ncr</td>\n",
       "      <td>delhi</td>\n",
       "      <td>north</td>\n",
       "      <td>yes</td>\n",
       "      <td>tier1</td>\n",
       "      <td>110001</td>\n",
       "      <td>tier1</td>\n",
       "    </tr>\n",
       "    <tr>\n",
       "      <th>258390</th>\n",
       "      <td>csqwmbh3</td>\n",
       "      <td>FL-0000WMBH59177551</td>\n",
       "      <td>24</td>\n",
       "      <td>2020-03-26 15:25:02+00:00</td>\n",
       "      <td>noodle, pasta, vermicelli</td>\n",
       "      <td>BGM</td>\n",
       "      <td>Food, Beverages &amp; Tobacco</td>\n",
       "      <td>yippee</td>\n",
       "      <td>Yippee Cheese Treat Pasta</td>\n",
       "      <td>75.0</td>\n",
       "      <td>...</td>\n",
       "      <td>http://img.fkcdn.com/image/100/100/k6ci8i80/pa...</td>\n",
       "      <td>in</td>\n",
       "      <td>south east delhi</td>\n",
       "      <td>delhi ncr</td>\n",
       "      <td>delhi</td>\n",
       "      <td>north</td>\n",
       "      <td>yes</td>\n",
       "      <td>tier1</td>\n",
       "      <td>110001</td>\n",
       "      <td>tier1</td>\n",
       "    </tr>\n",
       "  </tbody>\n",
       "</table>\n",
       "<p>5 rows × 29 columns</p>\n",
       "</div>"
      ],
      "text/plain": [
       "       user_code     transaction_code  product_seq                 ordered_on  \\\n",
       "258393  cse731if  FL-0000731I85077554            1  2020-03-29 06:33:05+00:00   \n",
       "258392  cs6m878f  FL-0000M87876277553            1  2020-03-29 05:25:46+00:00   \n",
       "258391  csd0htug  FL-00000HTU71477552            1  2020-03-26 20:15:00+00:00   \n",
       "258378  csqwmbh3  FL-0000WMBH59177551           12  2020-03-26 15:25:02+00:00   \n",
       "258390  csqwmbh3  FL-0000WMBH59177551           24  2020-03-26 15:25:02+00:00   \n",
       "\n",
       "                         category cat0fk                       cat0    brand  \\\n",
       "258393          household cleaner   Home              Home & Garden   pigeon   \n",
       "258392            hand, foot care    BGM      Apparel & Accessories    agaro   \n",
       "258391                   pet food   Home     Animals & Pet Supplies  whiskas   \n",
       "258378  noodle, pasta, vermicelli    BGM  Food, Beverages & Tobacco   yippee   \n",
       "258390  noodle, pasta, vermicelli    BGM  Food, Beverages & Tobacco   yippee   \n",
       "\n",
       "                                             product_name  unit_price  ...  \\\n",
       "258393                               Pigeon Enjoy Mop Mop       799.0  ...   \n",
       "258392                          Agaro 33168 Foot Massager      3999.0  ...   \n",
       "258391  Whiskas Adult (+1 year) Mackeral 3 kg Dry Cat ...       840.0  ...   \n",
       "258378                          Yippee Cheese Treat Pasta        75.0  ...   \n",
       "258390                          Yippee Cheese Treat Pasta        75.0  ...   \n",
       "\n",
       "                                                    image  country_code  \\\n",
       "258393  http://img.fkcdn.com/image/100/100/j6mhxu80/mo...            in   \n",
       "258392  http://img.fkcdn.com/image/100/100/k3orqfk0/ma...            in   \n",
       "258391  http://img.fkcdn.com/image/100/100/jj6130w0/pe...            in   \n",
       "258378  http://img.fkcdn.com/image/100/100/k6ci8i80/pa...            in   \n",
       "258390  http://img.fkcdn.com/image/100/100/k6ci8i80/pa...            in   \n",
       "\n",
       "                district district_grp  state   zone metro   tier  \\\n",
       "258393     central delhi    delhi ncr  delhi  north   yes  tier1   \n",
       "258392     central delhi    delhi ncr  delhi  north   yes  tier1   \n",
       "258391         new delhi    delhi ncr  delhi  north   yes  tier1   \n",
       "258378  south east delhi    delhi ncr  delhi  north   yes  tier1   \n",
       "258390  south east delhi    delhi ncr  delhi  north   yes  tier1   \n",
       "\n",
       "        postal_code_base tier_base  \n",
       "258393            110001     tier1  \n",
       "258392            110054     tier1  \n",
       "258391            110003     tier1  \n",
       "258378            110001     tier1  \n",
       "258390            110001     tier1  \n",
       "\n",
       "[5 rows x 29 columns]"
      ]
     },
     "execution_count": 28,
     "metadata": {},
     "output_type": "execute_result"
    }
   ],
   "source": [
    "flipkart.head()"
   ]
  },
  {
   "cell_type": "code",
   "execution_count": 479,
   "metadata": {},
   "outputs": [
    {
     "data": {
      "text/plain": [
       "111051"
      ]
     },
     "execution_count": 479,
     "metadata": {},
     "output_type": "execute_result"
    }
   ],
   "source": [
    "len(flipkart)"
   ]
  },
  {
   "cell_type": "code",
   "execution_count": 480,
   "metadata": {},
   "outputs": [
    {
     "data": {
      "text/plain": [
       "147343"
      ]
     },
     "execution_count": 480,
     "metadata": {},
     "output_type": "execute_result"
    }
   ],
   "source": [
    "len(amazon)"
   ]
  },
  {
   "cell_type": "code",
   "execution_count": 29,
   "metadata": {
    "collapsed": true,
    "jupyter": {
     "outputs_hidden": true
    }
   },
   "outputs": [
    {
     "data": {
      "text/plain": [
       "~others                              16825\n",
       "mobile accessory                     12417\n",
       "audio, video accessory                8799\n",
       "men clothing                          6388\n",
       "skin, face care                       5878\n",
       "book                                  4218\n",
       "mobile phone                          3964\n",
       "women clothing                        3258\n",
       "men footwear                          3235\n",
       "home storage, organizer               2341\n",
       "hair oil, gel, serum                  2336\n",
       "personal care appliance               2303\n",
       "kid footwear                          2210\n",
       "jewellery                             1945\n",
       "health drink supplement               1800\n",
       "toilet soap, liquid                   1720\n",
       "bedding, curtain, carpet, cushion     1652\n",
       "wrist watch                           1614\n",
       "wearable smart device                 1611\n",
       "tableware, dinnerware                 1598\n",
       "baby diaper                           1558\n",
       "kitchen tool                          1398\n",
       "household cleaner                     1372\n",
       "memory card, pen drive                1240\n",
       "computer accessory                    1219\n",
       "fragrance, perfume, deo               1194\n",
       "shampoo                               1185\n",
       "fabric cleaner                        1149\n",
       "mobile charger                        1128\n",
       "home lighting                         1097\n",
       "                                     ...  \n",
       "voltage stabilizer                      93\n",
       "mouthwash                               88\n",
       "milk condensed, powdered                86\n",
       "calculator                              85\n",
       "desktop                                 84\n",
       "spread, dip                             72\n",
       "drinking water                          70\n",
       "camera lens                             65\n",
       "bread, bun, cake, pastry                53\n",
       "tongue cleaner, floss                   53\n",
       "microwave                               48\n",
       "pickle, chutney                         45\n",
       "indian sweet                            42\n",
       "air purifier                            38\n",
       "frier                                   36\n",
       "squash, syrup, concentrate              35\n",
       "air cooler                              33\n",
       "flavored milk                           31\n",
       "air conditioner                         31\n",
       "jam, jelly, marmalade                   28\n",
       "buttermilk, lassi                       20\n",
       "milk                                    19\n",
       "antiseptic liquid, cream                17\n",
       "soft drink                              14\n",
       "cheese                                  10\n",
       "ice cream, dessert                       8\n",
       "yogurt, shrikhand                        7\n",
       "frozen non-veg                           6\n",
       "cottage cheese                           1\n",
       "frozen veg                               1\n",
       "Name: category, Length: 172, dtype: int64"
      ]
     },
     "execution_count": 29,
     "metadata": {},
     "output_type": "execute_result"
    }
   ],
   "source": [
    "amazon[\"category\"].value_counts() #how many orders there were from each category"
   ]
  },
  {
   "cell_type": "code",
   "execution_count": 482,
   "metadata": {
    "collapsed": true,
    "jupyter": {
     "outputs_hidden": true
    }
   },
   "outputs": [
    {
     "data": {
      "text/plain": [
       "mobile accessory                     8930\n",
       "~others                              8401\n",
       "men clothing                         8134\n",
       "memory card, pen drive               4995\n",
       "audio, video accessory               4916\n",
       "men footwear                         4304\n",
       "women clothing                       4044\n",
       "skin, face care                      3255\n",
       "wrist watch                          2762\n",
       "book                                 2704\n",
       "edible oil, ghee, vanaspati          2105\n",
       "personal care appliance              1954\n",
       "fragrance, perfume, deo              1937\n",
       "tablet                               1835\n",
       "bedding, curtain, carpet, cushion    1777\n",
       "dal, pulse                           1536\n",
       "power bank                           1458\n",
       "security camera, system              1227\n",
       "hair oil, gel, serum                 1216\n",
       "baby diaper                          1049\n",
       "mobile charger                        993\n",
       "spice                                 974\n",
       "laptop                                964\n",
       "dry fruit, nut                        948\n",
       "toilet soap, liquid                   909\n",
       "biscuit, cookie, rusk                 897\n",
       "mobile phone                          873\n",
       "tableware, dinnerware                 849\n",
       "wallet                                781\n",
       "women footwear                        774\n",
       "                                     ... \n",
       "mouthwash                              50\n",
       "chimney                                48\n",
       "foodgrain                              48\n",
       "air cooler                             48\n",
       "squash, syrup, concentrate             47\n",
       "disposable utensil                     44\n",
       "battery                                44\n",
       "health, nutrition bar                  40\n",
       "milk condensed, powdered               36\n",
       "baby food                              36\n",
       "bread, bun, cake, pastry               32\n",
       "tongue cleaner, floss                  31\n",
       "sewing machine                         31\n",
       "milk                                   30\n",
       "ice cream, dessert                     27\n",
       "cheese                                 26\n",
       "camera lens                            22\n",
       "frozen non-veg                         20\n",
       "cable, wire                            20\n",
       "flavored milk                          18\n",
       "buttermilk, lassi                      16\n",
       "coffee, tea, espresso machine          15\n",
       "drinking water                         15\n",
       "antiseptic liquid, cream               15\n",
       "air purifier                           14\n",
       "cottage cheese                         13\n",
       "frozen veg                              4\n",
       "yogurt, shrikhand                       4\n",
       "curd                                    3\n",
       "frier                                   2\n",
       "Name: category, Length: 173, dtype: int64"
      ]
     },
     "execution_count": 482,
     "metadata": {},
     "output_type": "execute_result"
    }
   ],
   "source": [
    "flipkart[\"category\"].value_counts()"
   ]
  },
  {
   "cell_type": "code",
   "execution_count": 30,
   "metadata": {},
   "outputs": [
    {
     "data": {
      "text/plain": [
       "'2020-03-29 06:33:05+00:00'"
      ]
     },
     "execution_count": 30,
     "metadata": {},
     "output_type": "execute_result"
    }
   ],
   "source": [
    "list(flipkart[\"ordered_on\"])[0] #first order"
   ]
  },
  {
   "cell_type": "code",
   "execution_count": 41,
   "metadata": {},
   "outputs": [],
   "source": [
    "amazon_samp[\"order_date\"] = pd.to_datetime(amazon_samp[\"ordered_on\"]) #changing ordered on column to datetime"
   ]
  },
  {
   "cell_type": "code",
   "execution_count": 42,
   "metadata": {},
   "outputs": [],
   "source": [
    "amazon_samp[\"order_week\"] = amazon_samp[\"order_date\"].dt.strftime('%y-%U') #creating column that has the week of each order "
   ]
  },
  {
   "cell_type": "code",
   "execution_count": 43,
   "metadata": {},
   "outputs": [],
   "source": [
    "flipkart[\"order_date\"] = pd.to_datetime(flipkart[\"ordered_on\"])"
   ]
  },
  {
   "cell_type": "code",
   "execution_count": 44,
   "metadata": {},
   "outputs": [],
   "source": [
    "flipkart[\"order_week\"] = flipkart[\"order_date\"].dt.strftime('%y-%U')"
   ]
  },
  {
   "cell_type": "code",
   "execution_count": 45,
   "metadata": {},
   "outputs": [
    {
     "data": {
      "text/html": [
       "<div>\n",
       "<style scoped>\n",
       "    .dataframe tbody tr th:only-of-type {\n",
       "        vertical-align: middle;\n",
       "    }\n",
       "\n",
       "    .dataframe tbody tr th {\n",
       "        vertical-align: top;\n",
       "    }\n",
       "\n",
       "    .dataframe thead th {\n",
       "        text-align: right;\n",
       "    }\n",
       "</style>\n",
       "<table border=\"1\" class=\"dataframe\">\n",
       "  <thead>\n",
       "    <tr style=\"text-align: right;\">\n",
       "      <th></th>\n",
       "      <th>user_code</th>\n",
       "      <th>transaction_code</th>\n",
       "      <th>product_seq</th>\n",
       "      <th>ordered_on</th>\n",
       "      <th>category</th>\n",
       "      <th>cat0fk</th>\n",
       "      <th>cat0</th>\n",
       "      <th>brand</th>\n",
       "      <th>product_name</th>\n",
       "      <th>unit_price</th>\n",
       "      <th>...</th>\n",
       "      <th>district</th>\n",
       "      <th>district_grp</th>\n",
       "      <th>state</th>\n",
       "      <th>zone</th>\n",
       "      <th>metro</th>\n",
       "      <th>tier</th>\n",
       "      <th>postal_code_base</th>\n",
       "      <th>tier_base</th>\n",
       "      <th>order_date</th>\n",
       "      <th>order_week</th>\n",
       "    </tr>\n",
       "  </thead>\n",
       "  <tbody>\n",
       "    <tr>\n",
       "      <th>258393</th>\n",
       "      <td>cse731if</td>\n",
       "      <td>FL-0000731I85077554</td>\n",
       "      <td>1</td>\n",
       "      <td>2020-03-29 06:33:05+00:00</td>\n",
       "      <td>household cleaner</td>\n",
       "      <td>Home</td>\n",
       "      <td>Home &amp; Garden</td>\n",
       "      <td>pigeon</td>\n",
       "      <td>Pigeon Enjoy Mop Mop</td>\n",
       "      <td>799.0</td>\n",
       "      <td>...</td>\n",
       "      <td>central delhi</td>\n",
       "      <td>delhi ncr</td>\n",
       "      <td>delhi</td>\n",
       "      <td>north</td>\n",
       "      <td>yes</td>\n",
       "      <td>tier1</td>\n",
       "      <td>110001</td>\n",
       "      <td>tier1</td>\n",
       "      <td>2020-03-29 06:33:05+00:00</td>\n",
       "      <td>20-13</td>\n",
       "    </tr>\n",
       "    <tr>\n",
       "      <th>258392</th>\n",
       "      <td>cs6m878f</td>\n",
       "      <td>FL-0000M87876277553</td>\n",
       "      <td>1</td>\n",
       "      <td>2020-03-29 05:25:46+00:00</td>\n",
       "      <td>hand, foot care</td>\n",
       "      <td>BGM</td>\n",
       "      <td>Apparel &amp; Accessories</td>\n",
       "      <td>agaro</td>\n",
       "      <td>Agaro 33168 Foot Massager</td>\n",
       "      <td>3999.0</td>\n",
       "      <td>...</td>\n",
       "      <td>central delhi</td>\n",
       "      <td>delhi ncr</td>\n",
       "      <td>delhi</td>\n",
       "      <td>north</td>\n",
       "      <td>yes</td>\n",
       "      <td>tier1</td>\n",
       "      <td>110054</td>\n",
       "      <td>tier1</td>\n",
       "      <td>2020-03-29 05:25:46+00:00</td>\n",
       "      <td>20-13</td>\n",
       "    </tr>\n",
       "    <tr>\n",
       "      <th>258391</th>\n",
       "      <td>csd0htug</td>\n",
       "      <td>FL-00000HTU71477552</td>\n",
       "      <td>1</td>\n",
       "      <td>2020-03-26 20:15:00+00:00</td>\n",
       "      <td>pet food</td>\n",
       "      <td>Home</td>\n",
       "      <td>Animals &amp; Pet Supplies</td>\n",
       "      <td>whiskas</td>\n",
       "      <td>Whiskas Adult (+1 year) Mackeral 3 kg Dry Cat ...</td>\n",
       "      <td>840.0</td>\n",
       "      <td>...</td>\n",
       "      <td>new delhi</td>\n",
       "      <td>delhi ncr</td>\n",
       "      <td>delhi</td>\n",
       "      <td>north</td>\n",
       "      <td>yes</td>\n",
       "      <td>tier1</td>\n",
       "      <td>110003</td>\n",
       "      <td>tier1</td>\n",
       "      <td>2020-03-26 20:15:00+00:00</td>\n",
       "      <td>20-12</td>\n",
       "    </tr>\n",
       "    <tr>\n",
       "      <th>258378</th>\n",
       "      <td>csqwmbh3</td>\n",
       "      <td>FL-0000WMBH59177551</td>\n",
       "      <td>12</td>\n",
       "      <td>2020-03-26 15:25:02+00:00</td>\n",
       "      <td>noodle, pasta, vermicelli</td>\n",
       "      <td>BGM</td>\n",
       "      <td>Food, Beverages &amp; Tobacco</td>\n",
       "      <td>yippee</td>\n",
       "      <td>Yippee Cheese Treat Pasta</td>\n",
       "      <td>75.0</td>\n",
       "      <td>...</td>\n",
       "      <td>south east delhi</td>\n",
       "      <td>delhi ncr</td>\n",
       "      <td>delhi</td>\n",
       "      <td>north</td>\n",
       "      <td>yes</td>\n",
       "      <td>tier1</td>\n",
       "      <td>110001</td>\n",
       "      <td>tier1</td>\n",
       "      <td>2020-03-26 15:25:02+00:00</td>\n",
       "      <td>20-12</td>\n",
       "    </tr>\n",
       "    <tr>\n",
       "      <th>258390</th>\n",
       "      <td>csqwmbh3</td>\n",
       "      <td>FL-0000WMBH59177551</td>\n",
       "      <td>24</td>\n",
       "      <td>2020-03-26 15:25:02+00:00</td>\n",
       "      <td>noodle, pasta, vermicelli</td>\n",
       "      <td>BGM</td>\n",
       "      <td>Food, Beverages &amp; Tobacco</td>\n",
       "      <td>yippee</td>\n",
       "      <td>Yippee Cheese Treat Pasta</td>\n",
       "      <td>75.0</td>\n",
       "      <td>...</td>\n",
       "      <td>south east delhi</td>\n",
       "      <td>delhi ncr</td>\n",
       "      <td>delhi</td>\n",
       "      <td>north</td>\n",
       "      <td>yes</td>\n",
       "      <td>tier1</td>\n",
       "      <td>110001</td>\n",
       "      <td>tier1</td>\n",
       "      <td>2020-03-26 15:25:02+00:00</td>\n",
       "      <td>20-12</td>\n",
       "    </tr>\n",
       "  </tbody>\n",
       "</table>\n",
       "<p>5 rows × 31 columns</p>\n",
       "</div>"
      ],
      "text/plain": [
       "       user_code     transaction_code  product_seq                 ordered_on  \\\n",
       "258393  cse731if  FL-0000731I85077554            1  2020-03-29 06:33:05+00:00   \n",
       "258392  cs6m878f  FL-0000M87876277553            1  2020-03-29 05:25:46+00:00   \n",
       "258391  csd0htug  FL-00000HTU71477552            1  2020-03-26 20:15:00+00:00   \n",
       "258378  csqwmbh3  FL-0000WMBH59177551           12  2020-03-26 15:25:02+00:00   \n",
       "258390  csqwmbh3  FL-0000WMBH59177551           24  2020-03-26 15:25:02+00:00   \n",
       "\n",
       "                         category cat0fk                       cat0    brand  \\\n",
       "258393          household cleaner   Home              Home & Garden   pigeon   \n",
       "258392            hand, foot care    BGM      Apparel & Accessories    agaro   \n",
       "258391                   pet food   Home     Animals & Pet Supplies  whiskas   \n",
       "258378  noodle, pasta, vermicelli    BGM  Food, Beverages & Tobacco   yippee   \n",
       "258390  noodle, pasta, vermicelli    BGM  Food, Beverages & Tobacco   yippee   \n",
       "\n",
       "                                             product_name  unit_price  ...  \\\n",
       "258393                               Pigeon Enjoy Mop Mop       799.0  ...   \n",
       "258392                          Agaro 33168 Foot Massager      3999.0  ...   \n",
       "258391  Whiskas Adult (+1 year) Mackeral 3 kg Dry Cat ...       840.0  ...   \n",
       "258378                          Yippee Cheese Treat Pasta        75.0  ...   \n",
       "258390                          Yippee Cheese Treat Pasta        75.0  ...   \n",
       "\n",
       "                district  district_grp  state   zone metro   tier  \\\n",
       "258393     central delhi     delhi ncr  delhi  north   yes  tier1   \n",
       "258392     central delhi     delhi ncr  delhi  north   yes  tier1   \n",
       "258391         new delhi     delhi ncr  delhi  north   yes  tier1   \n",
       "258378  south east delhi     delhi ncr  delhi  north   yes  tier1   \n",
       "258390  south east delhi     delhi ncr  delhi  north   yes  tier1   \n",
       "\n",
       "       postal_code_base tier_base                order_date order_week  \n",
       "258393           110001     tier1 2020-03-29 06:33:05+00:00      20-13  \n",
       "258392           110054     tier1 2020-03-29 05:25:46+00:00      20-13  \n",
       "258391           110003     tier1 2020-03-26 20:15:00+00:00      20-12  \n",
       "258378           110001     tier1 2020-03-26 15:25:02+00:00      20-12  \n",
       "258390           110001     tier1 2020-03-26 15:25:02+00:00      20-12  \n",
       "\n",
       "[5 rows x 31 columns]"
      ]
     },
     "execution_count": 45,
     "metadata": {},
     "output_type": "execute_result"
    }
   ],
   "source": [
    "flipkart.head()"
   ]
  },
  {
   "cell_type": "code",
   "execution_count": 46,
   "metadata": {},
   "outputs": [],
   "source": [
    "amazon_by_week = amazon_samp.groupby(\"order_week\").sum()[[\"amount_transaction\", \"quantity\"]] #grouping orders by week"
   ]
  },
  {
   "cell_type": "code",
   "execution_count": 47,
   "metadata": {},
   "outputs": [],
   "source": [
    "amazon_max_amount = amazon_by_week[\"amount_transaction\"].max()"
   ]
  },
  {
   "cell_type": "code",
   "execution_count": 48,
   "metadata": {},
   "outputs": [
    {
     "data": {
      "text/plain": [
       "15907104.939999951"
      ]
     },
     "execution_count": 48,
     "metadata": {},
     "output_type": "execute_result"
    }
   ],
   "source": [
    "amazon_max_amount #max transaction from amazon"
   ]
  },
  {
   "cell_type": "code",
   "execution_count": 56,
   "metadata": {},
   "outputs": [],
   "source": [
    "def convert_amount(amount): #convert the purchase amounts based on the max transaction\n",
    "    val = amount * 100 / amazon_max_amount\n",
    "    return val"
   ]
  },
  {
   "cell_type": "code",
   "execution_count": 57,
   "metadata": {},
   "outputs": [],
   "source": [
    "amazon_by_week[\"converted_amount\"] = amazon_by_week[\"amount_transaction\"].apply(convert_amount)"
   ]
  },
  {
   "cell_type": "code",
   "execution_count": 58,
   "metadata": {},
   "outputs": [],
   "source": [
    "amazon_by_week[\"week\"] = amazon_by_week.index"
   ]
  },
  {
   "cell_type": "code",
   "execution_count": 59,
   "metadata": {},
   "outputs": [
    {
     "data": {
      "text/html": [
       "<div>\n",
       "<style scoped>\n",
       "    .dataframe tbody tr th:only-of-type {\n",
       "        vertical-align: middle;\n",
       "    }\n",
       "\n",
       "    .dataframe tbody tr th {\n",
       "        vertical-align: top;\n",
       "    }\n",
       "\n",
       "    .dataframe thead th {\n",
       "        text-align: right;\n",
       "    }\n",
       "</style>\n",
       "<table border=\"1\" class=\"dataframe\">\n",
       "  <thead>\n",
       "    <tr style=\"text-align: right;\">\n",
       "      <th></th>\n",
       "      <th>amount_transaction</th>\n",
       "      <th>quantity</th>\n",
       "      <th>converted_amount</th>\n",
       "      <th>week</th>\n",
       "    </tr>\n",
       "    <tr>\n",
       "      <th>order_week</th>\n",
       "      <th></th>\n",
       "      <th></th>\n",
       "      <th></th>\n",
       "      <th></th>\n",
       "    </tr>\n",
       "  </thead>\n",
       "  <tbody>\n",
       "    <tr>\n",
       "      <th>19-39</th>\n",
       "      <td>15907104.94</td>\n",
       "      <td>8364</td>\n",
       "      <td>100.000000</td>\n",
       "      <td>19-39</td>\n",
       "    </tr>\n",
       "    <tr>\n",
       "      <th>19-40</th>\n",
       "      <td>5730714.89</td>\n",
       "      <td>4711</td>\n",
       "      <td>36.026134</td>\n",
       "      <td>19-40</td>\n",
       "    </tr>\n",
       "    <tr>\n",
       "      <th>19-41</th>\n",
       "      <td>13226756.24</td>\n",
       "      <td>8914</td>\n",
       "      <td>83.149990</td>\n",
       "      <td>19-41</td>\n",
       "    </tr>\n",
       "    <tr>\n",
       "      <th>19-42</th>\n",
       "      <td>14610436.52</td>\n",
       "      <td>7623</td>\n",
       "      <td>91.848495</td>\n",
       "      <td>19-42</td>\n",
       "    </tr>\n",
       "    <tr>\n",
       "      <th>19-43</th>\n",
       "      <td>4529456.41</td>\n",
       "      <td>4078</td>\n",
       "      <td>28.474423</td>\n",
       "      <td>19-43</td>\n",
       "    </tr>\n",
       "  </tbody>\n",
       "</table>\n",
       "</div>"
      ],
      "text/plain": [
       "            amount_transaction  quantity  converted_amount   week\n",
       "order_week                                                       \n",
       "19-39              15907104.94      8364        100.000000  19-39\n",
       "19-40               5730714.89      4711         36.026134  19-40\n",
       "19-41              13226756.24      8914         83.149990  19-41\n",
       "19-42              14610436.52      7623         91.848495  19-42\n",
       "19-43               4529456.41      4078         28.474423  19-43"
      ]
     },
     "execution_count": 59,
     "metadata": {},
     "output_type": "execute_result"
    }
   ],
   "source": [
    "amazon_by_week.head()"
   ]
  },
  {
   "cell_type": "code",
   "execution_count": 60,
   "metadata": {},
   "outputs": [],
   "source": [
    "def convert_amount(amount): #convert the purchase amounts based on the max transaction\n",
    "    val = amount * 100 / flipkart_max_amount\n",
    "    return val"
   ]
  },
  {
   "cell_type": "code",
   "execution_count": 61,
   "metadata": {},
   "outputs": [],
   "source": [
    "flipkart_by_week = flipkart.groupby(\"order_week\").sum()[[\"amount_transaction\", \"quantity\"]]"
   ]
  },
  {
   "cell_type": "code",
   "execution_count": 62,
   "metadata": {},
   "outputs": [],
   "source": [
    "flipkart_max_amount = flipkart_by_week[\"amount_transaction\"].max()"
   ]
  },
  {
   "cell_type": "code",
   "execution_count": 65,
   "metadata": {},
   "outputs": [
    {
     "data": {
      "text/plain": [
       "61781156.0"
      ]
     },
     "execution_count": 65,
     "metadata": {},
     "output_type": "execute_result"
    }
   ],
   "source": [
    "flipkart_max_amount "
   ]
  },
  {
   "cell_type": "code",
   "execution_count": 66,
   "metadata": {},
   "outputs": [],
   "source": [
    "flipkart_by_week[\"converted_amount\"] = flipkart_by_week[\"amount_transaction\"].apply(convert_amount)"
   ]
  },
  {
   "cell_type": "code",
   "execution_count": 67,
   "metadata": {},
   "outputs": [],
   "source": [
    "flipkart_by_week[\"week\"] = flipkart_by_week.index"
   ]
  },
  {
   "cell_type": "code",
   "execution_count": 68,
   "metadata": {},
   "outputs": [
    {
     "data": {
      "text/html": [
       "<div>\n",
       "<style scoped>\n",
       "    .dataframe tbody tr th:only-of-type {\n",
       "        vertical-align: middle;\n",
       "    }\n",
       "\n",
       "    .dataframe tbody tr th {\n",
       "        vertical-align: top;\n",
       "    }\n",
       "\n",
       "    .dataframe thead th {\n",
       "        text-align: right;\n",
       "    }\n",
       "</style>\n",
       "<table border=\"1\" class=\"dataframe\">\n",
       "  <thead>\n",
       "    <tr style=\"text-align: right;\">\n",
       "      <th></th>\n",
       "      <th>amount_transaction</th>\n",
       "      <th>quantity</th>\n",
       "      <th>converted_amount</th>\n",
       "      <th>week</th>\n",
       "    </tr>\n",
       "    <tr>\n",
       "      <th>order_week</th>\n",
       "      <th></th>\n",
       "      <th></th>\n",
       "      <th></th>\n",
       "      <th></th>\n",
       "    </tr>\n",
       "  </thead>\n",
       "  <tbody>\n",
       "    <tr>\n",
       "      <th>19-39</th>\n",
       "      <td>61781156.0</td>\n",
       "      <td>15562</td>\n",
       "      <td>100.000000</td>\n",
       "      <td>19-39</td>\n",
       "    </tr>\n",
       "    <tr>\n",
       "      <th>19-40</th>\n",
       "      <td>12953538.0</td>\n",
       "      <td>5322</td>\n",
       "      <td>20.966811</td>\n",
       "      <td>19-40</td>\n",
       "    </tr>\n",
       "    <tr>\n",
       "      <th>19-41</th>\n",
       "      <td>18702932.0</td>\n",
       "      <td>6605</td>\n",
       "      <td>30.272875</td>\n",
       "      <td>19-41</td>\n",
       "    </tr>\n",
       "    <tr>\n",
       "      <th>19-42</th>\n",
       "      <td>22977306.0</td>\n",
       "      <td>8252</td>\n",
       "      <td>37.191447</td>\n",
       "      <td>19-42</td>\n",
       "    </tr>\n",
       "    <tr>\n",
       "      <th>19-43</th>\n",
       "      <td>8365123.0</td>\n",
       "      <td>4076</td>\n",
       "      <td>13.539926</td>\n",
       "      <td>19-43</td>\n",
       "    </tr>\n",
       "  </tbody>\n",
       "</table>\n",
       "</div>"
      ],
      "text/plain": [
       "            amount_transaction  quantity  converted_amount   week\n",
       "order_week                                                       \n",
       "19-39               61781156.0     15562        100.000000  19-39\n",
       "19-40               12953538.0      5322         20.966811  19-40\n",
       "19-41               18702932.0      6605         30.272875  19-41\n",
       "19-42               22977306.0      8252         37.191447  19-42\n",
       "19-43                8365123.0      4076         13.539926  19-43"
      ]
     },
     "execution_count": 68,
     "metadata": {},
     "output_type": "execute_result"
    }
   ],
   "source": [
    "flipkart_by_week.head()"
   ]
  },
  {
   "cell_type": "code",
   "execution_count": 69,
   "metadata": {},
   "outputs": [
    {
     "data": {
      "text/plain": [
       "<matplotlib.legend.Legend at 0x1a1b133588>"
      ]
     },
     "execution_count": 69,
     "metadata": {},
     "output_type": "execute_result"
    },
    {
     "data": {
      "image/png": "[encoded data removed]",
      "text/plain": [
       "<Figure size 1080x504 with 1 Axes>"
      ]
     },
     "metadata": {
      "needs_background": "light"
     },
     "output_type": "display_data"
    }
   ],
   "source": [
    "fig, ax = plt.subplots(figsize=(15,7)) #transactions by week based on the converted amounts\n",
    "amazon_by_week.plot(\"week\", \"converted_amount\", style = 'b-', ax = ax)\n",
    "flipkart_by_week.plot(\"week\", \"converted_amount\", style = 'r-', ax = ax)\n",
    "plt.title(\"Online Spending on Amazon and Flipkart, by Week\", fontsize = 14)\n",
    "plt.ylabel(\"Percentages\", fontsize = 14)\n",
    "plt.xlabel(\"Week Numer of the Year\", fontsize = 14)\n",
    "plt.legend(loc = \"upper right\", labels = [\"Amazon\", \"Flipkart\"])"
   ]
  },
  {
   "cell_type": "code",
   "execution_count": 1217,
   "metadata": {},
   "outputs": [],
   "source": [
    "#Creating a plot about districts"
   ]
  },
  {
   "cell_type": "code",
   "execution_count": 70,
   "metadata": {},
   "outputs": [],
   "source": [
    "ama = amazon.loc[:,[\"cat0\", \"ordered_on\", \"amount_transaction\", \"state\", \"quantity\"]] #choosing the columns needed for the plot"
   ]
  },
  {
   "cell_type": "code",
   "execution_count": 71,
   "metadata": {},
   "outputs": [],
   "source": [
    "amazon_dis = ama.groupby(\"state\").sum() #sum of transactions in each state"
   ]
  },
  {
   "cell_type": "code",
   "execution_count": 72,
   "metadata": {},
   "outputs": [],
   "source": [
    "amazon_dis = amazon_dis.sort_index()"
   ]
  },
  {
   "cell_type": "code",
   "execution_count": 73,
   "metadata": {},
   "outputs": [
    {
     "data": {
      "text/html": [
       "<div>\n",
       "<style scoped>\n",
       "    .dataframe tbody tr th:only-of-type {\n",
       "        vertical-align: middle;\n",
       "    }\n",
       "\n",
       "    .dataframe tbody tr th {\n",
       "        vertical-align: top;\n",
       "    }\n",
       "\n",
       "    .dataframe thead th {\n",
       "        text-align: right;\n",
       "    }\n",
       "</style>\n",
       "<table border=\"1\" class=\"dataframe\">\n",
       "  <thead>\n",
       "    <tr style=\"text-align: right;\">\n",
       "      <th></th>\n",
       "      <th>amount_transaction</th>\n",
       "      <th>quantity</th>\n",
       "    </tr>\n",
       "    <tr>\n",
       "      <th>state</th>\n",
       "      <th></th>\n",
       "      <th></th>\n",
       "    </tr>\n",
       "  </thead>\n",
       "  <tbody>\n",
       "    <tr>\n",
       "      <th>andaman &amp; nicobar islands</th>\n",
       "      <td>151683.00</td>\n",
       "      <td>25</td>\n",
       "    </tr>\n",
       "    <tr>\n",
       "      <th>andhra pradesh</th>\n",
       "      <td>10403410.00</td>\n",
       "      <td>7355</td>\n",
       "    </tr>\n",
       "    <tr>\n",
       "      <th>arunachal pradesh</th>\n",
       "      <td>56276.09</td>\n",
       "      <td>45</td>\n",
       "    </tr>\n",
       "    <tr>\n",
       "      <th>assam</th>\n",
       "      <td>2559764.31</td>\n",
       "      <td>1971</td>\n",
       "    </tr>\n",
       "    <tr>\n",
       "      <th>bihar</th>\n",
       "      <td>5721517.15</td>\n",
       "      <td>4345</td>\n",
       "    </tr>\n",
       "  </tbody>\n",
       "</table>\n",
       "</div>"
      ],
      "text/plain": [
       "                           amount_transaction  quantity\n",
       "state                                                  \n",
       "andaman & nicobar islands           151683.00        25\n",
       "andhra pradesh                    10403410.00      7355\n",
       "arunachal pradesh                    56276.09        45\n",
       "assam                              2559764.31      1971\n",
       "bihar                              5721517.15      4345"
      ]
     },
     "execution_count": 73,
     "metadata": {},
     "output_type": "execute_result"
    }
   ],
   "source": [
    "amazon_dis.head()"
   ]
  },
  {
   "cell_type": "code",
   "execution_count": 76,
   "metadata": {},
   "outputs": [],
   "source": [
    "amazon_trans_sum = amazon_dis[\"amount_transaction\"].sum()"
   ]
  },
  {
   "cell_type": "code",
   "execution_count": 77,
   "metadata": {},
   "outputs": [],
   "source": [
    "def a_per_tran(amount): #converting the amount based on the sum of all transactions\n",
    "    per = float(amount)*100/amazon_trans_sum\n",
    "    return per"
   ]
  },
  {
   "cell_type": "code",
   "execution_count": 78,
   "metadata": {},
   "outputs": [],
   "source": [
    "amazon_dis[\"percentage_transaction\"] = amazon_dis[\"amount_transaction\"].apply(a_per_tran)"
   ]
  },
  {
   "cell_type": "code",
   "execution_count": 79,
   "metadata": {},
   "outputs": [],
   "source": [
    "amazon_dis_final = amazon_dis.sort_values(by = \"percentage_transaction\", ascending = False).reset_index().head(10)"
   ]
  },
  {
   "cell_type": "code",
   "execution_count": 80,
   "metadata": {},
   "outputs": [],
   "source": [
    "flip = flipkart.loc[:,[\"cat0\", \"ordered_on\", \"amount_transaction\", \"state\"]]\n",
    "flipkart_dis= flip.groupby(\"state\").sum()\n",
    "flipkart[\"state\"].value_counts()\n",
    "flipkart_dis = flipkart_dis.sort_index()\n",
    "flip_trans_sum = flipkart_dis[\"amount_transaction\"].sum()\n",
    "\n",
    "def f_per_tran(amount):\n",
    "    per = float(amount)*100/flip_trans_sum\n",
    "    return per\n",
    "\n",
    "flipkart_dis[\"percentage_transaction\"] = flipkart_dis[\"amount_transaction\"].apply(f_per_tran)\n",
    "flipkart_dis_final = flipkart_dis.sort_values(by = \"percentage_transaction\", ascending = False).reset_index().head(10)"
   ]
  },
  {
   "cell_type": "code",
   "execution_count": 81,
   "metadata": {},
   "outputs": [
    {
     "data": {
      "text/plain": [
       "Text(0.5, 6.79999999999999, 'States')"
      ]
     },
     "execution_count": 81,
     "metadata": {},
     "output_type": "execute_result"
    },
    {
     "data": {
      "image/png": "[encoded data removed]",
      "text/plain": [
       "<Figure size 360x360 with 1 Axes>"
      ]
     },
     "metadata": {
      "needs_background": "light"
     },
     "output_type": "display_data"
    }
   ],
   "source": [
    "amazon_dis_chart = sns.catplot(x = \"state\", y = \"percentage_transaction\", kind = \"bar\", data = amazon_dis_final)\n",
    "amazon_dis_chart.set_xticklabels(rotation=45)\n",
    "plt.title(\"Percentages of Amazon's Incomes by Top 10 Most Profitable States\", fontsize = 14)\n",
    "plt.ylabel(\"Percentages\", fontsize = 14)\n",
    "plt.xlabel(\"States\", fontsize = 14)"
   ]
  },
  {
   "cell_type": "code",
   "execution_count": 1249,
   "metadata": {},
   "outputs": [
    {
     "data": {
      "text/plain": [
       "Text(0.5, 6.79999999999999, 'States')"
      ]
     },
     "execution_count": 1249,
     "metadata": {},
     "output_type": "execute_result"
    },
    {
     "data": {
      "image/png": "[encoded data removed]",
      "text/plain": [
       "<Figure size 360x360 with 1 Axes>"
      ]
     },
     "metadata": {
      "needs_background": "light"
     },
     "output_type": "display_data"
    }
   ],
   "source": [
    "flipkart_dis_chart = sns.catplot(x = \"state\", y = \"percentage_transaction\", kind = \"bar\", data = flipkart_dis_final)\n",
    "flipkart_dis_chart.set_xticklabels(rotation=45)\n",
    "plt.title(\"Percentages of Amazon's Incomes by Top 10 Most Profitable States\", fontsize = 14)\n",
    "plt.ylabel(\"Percentages\", fontsize = 14)\n",
    "plt.xlabel(\"States\", fontsize = 14)"
   ]
  },
  {
   "cell_type": "code",
   "execution_count": 82,
   "metadata": {},
   "outputs": [],
   "source": [
    "#Categories analysis"
   ]
  },
  {
   "cell_type": "code",
   "execution_count": 83,
   "metadata": {},
   "outputs": [],
   "source": [
    "category_data = vumonic_data.loc[:, [\"ordered_on\", \"platform\", \"amount_transaction\", \"quantity\", \"cat0\"]] #choosig the categories needed for the analysis"
   ]
  },
  {
   "cell_type": "code",
   "execution_count": 508,
   "metadata": {},
   "outputs": [
    {
     "data": {
      "text/html": [
       "<div>\n",
       "<style scoped>\n",
       "    .dataframe tbody tr th:only-of-type {\n",
       "        vertical-align: middle;\n",
       "    }\n",
       "\n",
       "    .dataframe tbody tr th {\n",
       "        vertical-align: top;\n",
       "    }\n",
       "\n",
       "    .dataframe thead th {\n",
       "        text-align: right;\n",
       "    }\n",
       "</style>\n",
       "<table border=\"1\" class=\"dataframe\">\n",
       "  <thead>\n",
       "    <tr style=\"text-align: right;\">\n",
       "      <th></th>\n",
       "      <th>ordered_on</th>\n",
       "      <th>platform</th>\n",
       "      <th>amount_transaction</th>\n",
       "      <th>quantity</th>\n",
       "      <th>cat0</th>\n",
       "    </tr>\n",
       "  </thead>\n",
       "  <tbody>\n",
       "    <tr>\n",
       "      <th>0</th>\n",
       "      <td>2020-02-19 17:37:12+00:00</td>\n",
       "      <td>amazon</td>\n",
       "      <td>3065.0</td>\n",
       "      <td>1</td>\n",
       "      <td>Electronics</td>\n",
       "    </tr>\n",
       "    <tr>\n",
       "      <th>1</th>\n",
       "      <td>2019-10-08 17:25:49+00:00</td>\n",
       "      <td>amazon</td>\n",
       "      <td>434.0</td>\n",
       "      <td>1</td>\n",
       "      <td>Electronics</td>\n",
       "    </tr>\n",
       "    <tr>\n",
       "      <th>2</th>\n",
       "      <td>2019-10-08 17:25:49+00:00</td>\n",
       "      <td>amazon</td>\n",
       "      <td>1470.0</td>\n",
       "      <td>1</td>\n",
       "      <td>Apparel &amp; Accessories</td>\n",
       "    </tr>\n",
       "    <tr>\n",
       "      <th>3</th>\n",
       "      <td>2019-10-08 17:25:49+00:00</td>\n",
       "      <td>amazon</td>\n",
       "      <td>299.0</td>\n",
       "      <td>1</td>\n",
       "      <td>Electronics</td>\n",
       "    </tr>\n",
       "    <tr>\n",
       "      <th>4</th>\n",
       "      <td>2019-10-08 18:11:21+00:00</td>\n",
       "      <td>amazon</td>\n",
       "      <td>98.0</td>\n",
       "      <td>1</td>\n",
       "      <td>Office Supplies</td>\n",
       "    </tr>\n",
       "  </tbody>\n",
       "</table>\n",
       "</div>"
      ],
      "text/plain": [
       "                  ordered_on platform  amount_transaction  quantity  \\\n",
       "0  2020-02-19 17:37:12+00:00   amazon              3065.0         1   \n",
       "1  2019-10-08 17:25:49+00:00   amazon               434.0         1   \n",
       "2  2019-10-08 17:25:49+00:00   amazon              1470.0         1   \n",
       "3  2019-10-08 17:25:49+00:00   amazon               299.0         1   \n",
       "4  2019-10-08 18:11:21+00:00   amazon                98.0         1   \n",
       "\n",
       "                    cat0  \n",
       "0            Electronics  \n",
       "1            Electronics  \n",
       "2  Apparel & Accessories  \n",
       "3            Electronics  \n",
       "4        Office Supplies  "
      ]
     },
     "execution_count": 508,
     "metadata": {},
     "output_type": "execute_result"
    }
   ],
   "source": [
    "category_data.head()"
   ]
  },
  {
   "cell_type": "code",
   "execution_count": 509,
   "metadata": {},
   "outputs": [],
   "source": [
    "#Category distribution by quantity of orders "
   ]
  },
  {
   "cell_type": "code",
   "execution_count": 510,
   "metadata": {},
   "outputs": [],
   "source": [
    "amazon_cat = category_data.loc[category_data[\"platform\"] == \"amazon\"]\n",
    "amazon_by_cat = amazon_cat.groupby(\"cat0\").sum()\n",
    "amazon_by_cat = amazon_by_cat.sort_values(by = \"quantity\", ascending = False)"
   ]
  },
  {
   "cell_type": "code",
   "execution_count": 511,
   "metadata": {},
   "outputs": [],
   "source": [
    "flipkart_cat = category_data.loc[category_data[\"platform\"] == \"flipkart\"]\n",
    "flipkart_by_cat = flipkart_cat.groupby(\"cat0\").sum()\n",
    "flipkart_by_cat = flipkart_by_cat.sort_values(by = \"quantity\", ascending = False)"
   ]
  },
  {
   "cell_type": "code",
   "execution_count": 1054,
   "metadata": {},
   "outputs": [
    {
     "data": {
      "image/png": "[encoded data removed]",
      "text/plain": [
       "<Figure size 432x288 with 1 Axes>"
      ]
     },
     "metadata": {},
     "output_type": "display_data"
    }
   ],
   "source": [
    "a_cate = list(dict(amazon_by_cat[\"quantity\"]).keys())[0:6] + [\"Other\"]\n",
    "a_val = list(dict(amazon_by_cat[\"quantity\"]).values())[0:6] + [(amazon_by_cat[\"quantity\"].sum() - 137593)]\n",
    "\n",
    "fig1, ax1 = plt.subplots()\n",
    "ax1.pie(a_val, labels = a_cate, autopct = '%1.1f%%',shadow = True, startangle = 90)\n",
    "ax1.axis('equal')\n",
    "\n",
    "plt.show()"
   ]
  },
  {
   "cell_type": "code",
   "execution_count": 513,
   "metadata": {},
   "outputs": [
    {
     "data": {
      "image/png": "[encoded data removed]",
      "text/plain": [
       "<Figure size 432x288 with 1 Axes>"
      ]
     },
     "metadata": {},
     "output_type": "display_data"
    }
   ],
   "source": [
    "f_cate = list(dict(flipkart_by_cat[\"quantity\"]).keys())[0:6] + [\"Other\"]\n",
    "f_val = list(dict(flipkart_by_cat[\"quantity\"]).values())[0:6] + [(flipkart_by_cat[\"quantity\"].sum() - 104535)]\n",
    "\n",
    "fig2, ax2 = plt.subplots()\n",
    "ax2.pie(f_val, labels = f_cate, autopct = '%1.1f%%',shadow = True, startangle = 90)\n",
    "ax2.axis('equal')\n",
    "\n",
    "plt.show()"
   ]
  },
  {
   "cell_type": "code",
   "execution_count": 514,
   "metadata": {},
   "outputs": [],
   "source": [
    "#Category distribution by transaction amounts"
   ]
  },
  {
   "cell_type": "code",
   "execution_count": 1056,
   "metadata": {},
   "outputs": [
    {
     "data": {
      "image/png": "[encoded data removed]",
      "text/plain": [
       "<Figure size 432x288 with 1 Axes>"
      ]
     },
     "metadata": {},
     "output_type": "display_data"
    }
   ],
   "source": [
    "a_cate_tran = list(dict(amazon_by_cat[\"amount_transaction\"]).keys())[0:6] + [\"Other\"]\n",
    "a_list = list(dict(amazon_by_cat[\"amount_transaction\"]).values())[0:6]\n",
    "\n",
    "sum_of_greatest = 0\n",
    "for num in a_list:\n",
    "    sum_of_greatest += num   \n",
    "    \n",
    "a_val_tran = list(dict(amazon_by_cat[\"amount_transaction\"]).values())[0:6] + [(amazon_by_cat[\"amount_transaction\"].sum() - sum_of_greatest)]\n",
    "\n",
    "fig3, ax3 = plt.subplots()\n",
    "ax3.pie(a_val_tran, labels = a_cate_tran, autopct = '%1.1f%%',shadow = True, startangle = 90)\n",
    "ax3.axis('equal')\n",
    "plt.title(\"Amazon's Income by Category\")\n",
    "plt.show()"
   ]
  },
  {
   "cell_type": "code",
   "execution_count": 1057,
   "metadata": {},
   "outputs": [
    {
     "data": {
      "image/png": "[encoded data removed]",
      "text/plain": [
       "<Figure size 432x288 with 1 Axes>"
      ]
     },
     "metadata": {},
     "output_type": "display_data"
    }
   ],
   "source": [
    "f_cate_tran = list(dict(flipkart_by_cat[\"amount_transaction\"]).keys())[0:6] + [\"Other\"]\n",
    "f_list = list(dict(flipkart_by_cat[\"amount_transaction\"]).values())[0:6]\n",
    "\n",
    "sum_of_greatest = 0\n",
    "for num in f_list:\n",
    "    sum_of_greatest += num   \n",
    "    \n",
    "f_val_tran = list(dict(flipkart_by_cat[\"amount_transaction\"]).values())[0:6] + [(flipkart_by_cat[\"amount_transaction\"].sum() - sum_of_greatest)]\n",
    "\n",
    "fig4, ax4 = plt.subplots()\n",
    "ax4.pie(f_val_tran, labels = f_cate_tran, autopct = '%1.1f%%',shadow = True, startangle = 90)\n",
    "ax4.axis('equal')\n",
    "plt.title(\"Flipkart's Income by Category\")\n",
    "plt.show()"
   ]
  },
  {
   "cell_type": "code",
   "execution_count": 1058,
   "metadata": {},
   "outputs": [],
   "source": [
    "#Income from selling electronics by week"
   ]
  },
  {
   "cell_type": "code",
   "execution_count": 518,
   "metadata": {},
   "outputs": [],
   "source": [
    "adjusted_data = pd.read_csv(\"datasets/vumonic_data.csv\", usecols = ['quantity','platform', \"cat0\", \"amount_transaction\", \"ordered_on\"], parse_dates=['ordered_on'])"
   ]
  },
  {
   "cell_type": "code",
   "execution_count": 519,
   "metadata": {},
   "outputs": [],
   "source": [
    "amazon_2 = adjusted_data.loc[adjusted_data[\"platform\"] == \"amazon\"]\n",
    "flipkart_2 = adjusted_data.loc[adjusted_data[\"platform\"] == \"flipkart\"]\n",
    "\n",
    "amazon_elec = amazon_2.loc[adjusted_data[\"cat0\"] == \"Electronics\"]\n",
    "flipkart_elec = flipkart_2.loc[adjusted_data[\"cat0\"] == \"Electronics\"]"
   ]
  },
  {
   "cell_type": "code",
   "execution_count": 520,
   "metadata": {},
   "outputs": [],
   "source": [
    "amazon_elec.index = amazon_elec[\"ordered_on\"]\n",
    "amazon_elec = amazon_elec.resample(\"W\").sum()\n",
    "amazon_elec = amazon_elec.reset_index()"
   ]
  },
  {
   "cell_type": "code",
   "execution_count": 1060,
   "metadata": {},
   "outputs": [
    {
     "data": {
      "text/plain": [
       "14090394.999999916"
      ]
     },
     "execution_count": 1060,
     "metadata": {},
     "output_type": "execute_result"
    }
   ],
   "source": [
    "amazon_elec[\"amount_transaction\"].max()"
   ]
  },
  {
   "cell_type": "code",
   "execution_count": 1061,
   "metadata": {},
   "outputs": [
    {
     "data": {
      "text/plain": [
       "41235592.0"
      ]
     },
     "execution_count": 1061,
     "metadata": {},
     "output_type": "execute_result"
    }
   ],
   "source": [
    "flipkart_elec[\"amount_transaction\"].max()"
   ]
  },
  {
   "cell_type": "code",
   "execution_count": 1062,
   "metadata": {},
   "outputs": [],
   "source": [
    "def trans_per(amount):\n",
    "    return amount*100/flipkart_elec[\"amount_transaction\"].max()"
   ]
  },
  {
   "cell_type": "code",
   "execution_count": 1063,
   "metadata": {},
   "outputs": [],
   "source": [
    "amazon_elec[\"trans_per\"] = amazon_elec[\"amount_transaction\"].apply(trans_per)"
   ]
  },
  {
   "cell_type": "code",
   "execution_count": 1064,
   "metadata": {},
   "outputs": [],
   "source": [
    "flipkart_elec.index = flipkart_elec[\"ordered_on\"]\n",
    "flipkart_elec = flipkart_elec.resample(\"W\").sum()\n",
    "flipkart_elec = flipkart_elec.reset_index()"
   ]
  },
  {
   "cell_type": "code",
   "execution_count": 1065,
   "metadata": {},
   "outputs": [
    {
     "data": {
      "text/html": [
       "<div>\n",
       "<style scoped>\n",
       "    .dataframe tbody tr th:only-of-type {\n",
       "        vertical-align: middle;\n",
       "    }\n",
       "\n",
       "    .dataframe tbody tr th {\n",
       "        vertical-align: top;\n",
       "    }\n",
       "\n",
       "    .dataframe thead th {\n",
       "        text-align: right;\n",
       "    }\n",
       "</style>\n",
       "<table border=\"1\" class=\"dataframe\">\n",
       "  <thead>\n",
       "    <tr style=\"text-align: right;\">\n",
       "      <th></th>\n",
       "      <th>ordered_on</th>\n",
       "      <th>quantity</th>\n",
       "      <th>amount_transaction</th>\n",
       "      <th>trans_per</th>\n",
       "    </tr>\n",
       "  </thead>\n",
       "  <tbody>\n",
       "    <tr>\n",
       "      <th>0</th>\n",
       "      <td>2019-10-06 00:00:00+00:00</td>\n",
       "      <td>6375</td>\n",
       "      <td>41235592.0</td>\n",
       "      <td>100.000000</td>\n",
       "    </tr>\n",
       "    <tr>\n",
       "      <th>1</th>\n",
       "      <td>2019-10-13 00:00:00+00:00</td>\n",
       "      <td>1977</td>\n",
       "      <td>9523912.0</td>\n",
       "      <td>23.096339</td>\n",
       "    </tr>\n",
       "    <tr>\n",
       "      <th>2</th>\n",
       "      <td>2019-10-20 00:00:00+00:00</td>\n",
       "      <td>2042</td>\n",
       "      <td>10533093.0</td>\n",
       "      <td>25.543693</td>\n",
       "    </tr>\n",
       "    <tr>\n",
       "      <th>3</th>\n",
       "      <td>2019-10-27 00:00:00+00:00</td>\n",
       "      <td>2491</td>\n",
       "      <td>13115005.0</td>\n",
       "      <td>31.805061</td>\n",
       "    </tr>\n",
       "    <tr>\n",
       "      <th>4</th>\n",
       "      <td>2019-11-03 00:00:00+00:00</td>\n",
       "      <td>1122</td>\n",
       "      <td>4903422.0</td>\n",
       "      <td>11.891237</td>\n",
       "    </tr>\n",
       "  </tbody>\n",
       "</table>\n",
       "</div>"
      ],
      "text/plain": [
       "                 ordered_on  quantity  amount_transaction   trans_per\n",
       "0 2019-10-06 00:00:00+00:00      6375          41235592.0  100.000000\n",
       "1 2019-10-13 00:00:00+00:00      1977           9523912.0   23.096339\n",
       "2 2019-10-20 00:00:00+00:00      2042          10533093.0   25.543693\n",
       "3 2019-10-27 00:00:00+00:00      2491          13115005.0   31.805061\n",
       "4 2019-11-03 00:00:00+00:00      1122           4903422.0   11.891237"
      ]
     },
     "execution_count": 1065,
     "metadata": {},
     "output_type": "execute_result"
    }
   ],
   "source": [
    "flipkart_elec.head()"
   ]
  },
  {
   "cell_type": "code",
   "execution_count": 1066,
   "metadata": {},
   "outputs": [],
   "source": [
    "def trans_per_f(amount):\n",
    "    return amount*100/flipkart_elec[\"amount_transaction\"].max()"
   ]
  },
  {
   "cell_type": "code",
   "execution_count": 1067,
   "metadata": {},
   "outputs": [],
   "source": [
    "flipkart_elec[\"trans_per\"] = flipkart_elec[\"amount_transaction\"].apply(trans_per_f)"
   ]
  },
  {
   "cell_type": "code",
   "execution_count": 1257,
   "metadata": {},
   "outputs": [
    {
     "data": {
      "text/plain": [
       "<matplotlib.legend.Legend at 0x1a8aa88978>"
      ]
     },
     "execution_count": 1257,
     "metadata": {},
     "output_type": "execute_result"
    },
    {
     "data": {
      "image/png": "[encoded data removed]",
      "text/plain": [
       "<Figure size 1080x504 with 1 Axes>"
      ]
     },
     "metadata": {
      "needs_background": "light"
     },
     "output_type": "display_data"
    }
   ],
   "source": [
    "fig, ax = plt.subplots(figsize=(15,7))\n",
    "flipkart_elec.plot(\"ordered_on\", \"trans_per\", style = 'r-', ax = ax)\n",
    "amazon_elec.plot(\"ordered_on\", \"trans_per\", style = 'b-', ax = ax)\n",
    "plt.title(\"Amazon's and Flipkart's Revenues from Electonics Category, by Week\", fontsize = 14)\n",
    "plt.xlabel(\" \")\n",
    "plt.legend(loc = \"upper right\", labels = [\"Flipkart\", \"Amazon\"])\n",
    "#ax.xaxis.set_major_locator(mdates.WeekdayLocator())\n",
    "#ax.xaxis.set_major_formatter(mdates.DateFormatter('%b %d'))"
   ]
  },
  {
   "cell_type": "code",
   "execution_count": 528,
   "metadata": {},
   "outputs": [],
   "source": [
    "#Smaller category by tiers 1, 2 and 3"
   ]
  },
  {
   "cell_type": "code",
   "execution_count": 529,
   "metadata": {},
   "outputs": [],
   "source": [
    "amazon_tier = amazon.copy()\n",
    "flipkart_tier = flipkart.copy()\n",
    "\n",
    "amazon_tier = amazon_tier.set_index(\"ordered_on\")\n",
    "flipkart_tier = flipkart_tier.set_index(\"ordered_on\")"
   ]
  },
  {
   "cell_type": "code",
   "execution_count": 530,
   "metadata": {},
   "outputs": [
    {
     "data": {
      "text/plain": [
       "~others                    7427\n",
       "mobile accessory           4776\n",
       "audio, video accessory     3587\n",
       "men clothing               2686\n",
       "skin, face care            2586\n",
       "book                       1598\n",
       "women clothing             1337\n",
       "mobile phone               1306\n",
       "men footwear               1159\n",
       "home storage, organizer    1145\n",
       "Name: category, dtype: int64"
      ]
     },
     "execution_count": 530,
     "metadata": {},
     "output_type": "execute_result"
    }
   ],
   "source": [
    "amazon_tier1[\"category\"].value_counts().head(10)"
   ]
  },
  {
   "cell_type": "code",
   "execution_count": 531,
   "metadata": {},
   "outputs": [
    {
     "data": {
      "text/plain": [
       "~others                    2058\n",
       "mobile accessory           1528\n",
       "audio, video accessory     1233\n",
       "men clothing                877\n",
       "skin, face care             827\n",
       "book                        644\n",
       "mobile phone                612\n",
       "women clothing              468\n",
       "men footwear                450\n",
       "personal care appliance     358\n",
       "Name: category, dtype: int64"
      ]
     },
     "execution_count": 531,
     "metadata": {},
     "output_type": "execute_result"
    }
   ],
   "source": [
    "amazon_tier2[\"category\"].value_counts().head(10)"
   ]
  },
  {
   "cell_type": "code",
   "execution_count": 532,
   "metadata": {},
   "outputs": [
    {
     "data": {
      "text/plain": [
       "~others                   7319\n",
       "mobile accessory          6103\n",
       "audio, video accessory    3972\n",
       "men clothing              2817\n",
       "skin, face care           2460\n",
       "mobile phone              2042\n",
       "book                      1969\n",
       "men footwear              1625\n",
       "women clothing            1452\n",
       "kid footwear              1097\n",
       "Name: category, dtype: int64"
      ]
     },
     "execution_count": 532,
     "metadata": {},
     "output_type": "execute_result"
    }
   ],
   "source": [
    "amazon_tier3[\"category\"].value_counts().head(10)"
   ]
  },
  {
   "cell_type": "code",
   "execution_count": 533,
   "metadata": {},
   "outputs": [],
   "source": [
    "#flipkart_elec = flipkart_elec.resample(\"W\").sum()\n",
    "#amazon_tier1.loc[amazon_tier1[\"category\"] == \"mobile accessory\"].resample(\"W\").sum()"
   ]
  },
  {
   "cell_type": "code",
   "execution_count": 1184,
   "metadata": {},
   "outputs": [],
   "source": [
    "amazon_tier1 = amazon_tier.loc[amazon_tier[\"tier\"] == \"tier1\"]\n",
    "amazon_tier2 = amazon_tier.loc[amazon_tier[\"tier\"] == \"tier2\"]\n",
    "amazon_tier3 = amazon_tier.loc[amazon_tier[\"tier\"] == \"tier3\"]\n",
    "\n",
    "flipkart_tier1 = flipkart_tier.loc[flipkart_tier[\"tier\"] == \"tier1\"]\n",
    "flipkart_tier2 = flipkart_tier.loc[flipkart_tier[\"tier\"] == \"tier2\"]\n",
    "flipkart_tier3 = flipkart_tier.loc[flipkart_tier[\"tier\"] == \"tier3\"]"
   ]
  },
  {
   "cell_type": "code",
   "execution_count": 535,
   "metadata": {},
   "outputs": [],
   "source": [
    "#Mobile accessory tier 1 "
   ]
  },
  {
   "cell_type": "code",
   "execution_count": 1185,
   "metadata": {},
   "outputs": [],
   "source": [
    "amazon_tier1_mob = amazon_tier1.loc[amazon_tier1[\"category\"] == \"mobile accessory\"]\n",
    "amazon_tier1_mob.index = pd.to_datetime(amazon_tier1_mob.index)\n",
    "amazon_tier1_mob = amazon_tier1_mob.resample(\"W\").sum()\n",
    "\n",
    "flip_tier1_mob = flipkart_tier1.loc[flipkart_tier1[\"category\"] == \"mobile accessory\"]\n",
    "flip_tier1_mob.index = pd.to_datetime(flip_tier1_mob.index)\n",
    "flip_tier1_mob = flip_tier1_mob.resample(\"W\").sum()"
   ]
  },
  {
   "cell_type": "code",
   "execution_count": 537,
   "metadata": {},
   "outputs": [],
   "source": [
    "def amazon_per_mob1(amount):\n",
    "    return amount*100/amazon_tier1_mob[\"amount_transaction\"].max()\n",
    "\n",
    "def flipkart_per_mob1(amount):\n",
    "    return amount*100/flip_tier1_mob[\"amount_transaction\"].max()"
   ]
  },
  {
   "cell_type": "code",
   "execution_count": 1189,
   "metadata": {},
   "outputs": [],
   "source": [
    "amazon_tier1_mob[\"trans_per\"] = amazon_tier1_mob[\"amount_transaction\"].apply(flipkart_per_mob1)\n",
    "flip_tier1_mob[\"trans_per\"] = flip_tier1_mob[\"amount_transaction\"].apply(flipkart_per_mob1)\n",
    "\n",
    "amazon_tier1_mob = amazon_tier1_mob.reset_index()\n",
    "flip_tier1_mob = flip_tier1_mob.reset_index()"
   ]
  },
  {
   "cell_type": "code",
   "execution_count": 1190,
   "metadata": {},
   "outputs": [
    {
     "name": "stderr",
     "output_type": "stream",
     "text": [
      "//anaconda3/lib/python3.7/site-packages/pandas/core/arrays/datetimes.py:1172: UserWarning: Converting to PeriodArray/Index representation will drop timezone information.\n",
      "  \"will drop timezone information.\", UserWarning)\n"
     ]
    },
    {
     "data": {
      "text/plain": [
       "<matplotlib.axes._subplots.AxesSubplot at 0x1a75b5a710>"
      ]
     },
     "execution_count": 1190,
     "metadata": {},
     "output_type": "execute_result"
    },
    {
     "data": {
      "image/png": "[encoded data removed]",
      "text/plain": [
       "<Figure size 1080x504 with 1 Axes>"
      ]
     },
     "metadata": {
      "needs_background": "light"
     },
     "output_type": "display_data"
    }
   ],
   "source": [
    "fig, ax = plt.subplots(figsize=(15,7))\n",
    "amazon_tier1_mob.plot(\"ordered_on\", \"trans_per\", style = 'b-', ax = ax)\n",
    "flip_tier1_mob.plot(\"ordered_on\", \"trans_per\", style = 'r-', ax = ax)"
   ]
  },
  {
   "cell_type": "code",
   "execution_count": 540,
   "metadata": {},
   "outputs": [],
   "source": [
    "#Mobile accessory tier 2"
   ]
  },
  {
   "cell_type": "code",
   "execution_count": 541,
   "metadata": {},
   "outputs": [],
   "source": [
    "amazon_tier2_mob = amazon_tier2.loc[amazon_tier2[\"category\"] == \"mobile accessory\"]\n",
    "amazon_tier2_mob.index = pd.to_datetime(amazon_tier2_mob.index)\n",
    "amazon_tier2_mob = amazon_tier2_mob.resample(\"W\").sum()\n",
    "\n",
    "flip_tier2_mob = flipkart_tier2.loc[flipkart_tier2[\"category\"] == \"mobile accessory\"]\n",
    "flip_tier2_mob.index = pd.to_datetime(flip_tier2_mob.index)\n",
    "flip_tier2_mob = flip_tier2_mob.resample(\"W\").sum()"
   ]
  },
  {
   "cell_type": "code",
   "execution_count": 542,
   "metadata": {},
   "outputs": [],
   "source": [
    "def amazon_per_mob2(amount):\n",
    "    return amount*100/amazon_tier2_mob[\"amount_transaction\"].max()\n",
    "\n",
    "def flipkart_per_mob2(amount):\n",
    "    return amount*100/flip_tier2_mob[\"amount_transaction\"].max()"
   ]
  },
  {
   "cell_type": "code",
   "execution_count": 1193,
   "metadata": {},
   "outputs": [],
   "source": [
    "amazon_tier2_mob[\"trans_per\"] = amazon_tier2_mob[\"amount_transaction\"].apply(flipkart_per_mob2)\n",
    "flip_tier2_mob[\"trans_per\"] = flip_tier2_mob[\"amount_transaction\"].apply(flipkart_per_mob2)\n",
    "\n",
    "amazon_tier2_mob = amazon_tier2_mob.reset_index()\n",
    "flip_tier2_mob = flip_tier2_mob.reset_index()"
   ]
  },
  {
   "cell_type": "code",
   "execution_count": 1194,
   "metadata": {},
   "outputs": [
    {
     "data": {
      "text/plain": [
       "<matplotlib.axes._subplots.AxesSubplot at 0x1a5c11cda0>"
      ]
     },
     "execution_count": 1194,
     "metadata": {},
     "output_type": "execute_result"
    },
    {
     "data": {
      "image/png": "[encoded data removed]",
      "text/plain": [
       "<Figure size 1080x504 with 1 Axes>"
      ]
     },
     "metadata": {
      "needs_background": "light"
     },
     "output_type": "display_data"
    }
   ],
   "source": [
    "fig, ax = plt.subplots(figsize=(15,7))\n",
    "amazon_tier2_mob.plot(\"ordered_on\", \"trans_per\", style = 'b-', ax = ax)\n",
    "flip_tier2_mob.plot(\"ordered_on\", \"trans_per\", style = 'r-', ax = ax)"
   ]
  },
  {
   "cell_type": "code",
   "execution_count": 545,
   "metadata": {},
   "outputs": [],
   "source": [
    "#Mobile accessury tier 3 "
   ]
  },
  {
   "cell_type": "code",
   "execution_count": 546,
   "metadata": {},
   "outputs": [],
   "source": [
    "amazon_tier3_mob = amazon_tier3.loc[amazon_tier3[\"category\"] == \"mobile accessory\"]\n",
    "amazon_tier3_mob.index = pd.to_datetime(amazon_tier3_mob.index)\n",
    "amazon_tier3_mob = amazon_tier3_mob.resample(\"W\").sum()\n",
    "\n",
    "flip_tier3_mob = flipkart_tier3.loc[flipkart_tier3[\"category\"] == \"mobile accessory\"]\n",
    "flip_tier3_mob.index = pd.to_datetime(flip_tier3_mob.index)\n",
    "flip_tier3_mob = flip_tier3_mob.resample(\"W\").sum()"
   ]
  },
  {
   "cell_type": "code",
   "execution_count": 547,
   "metadata": {},
   "outputs": [],
   "source": [
    "def amazon_per_mob3(amount):\n",
    "    return amount*100/amazon_tier3_mob[\"amount_transaction\"].max()\n",
    "\n",
    "def flipkart_per_mob3(amount):\n",
    "    return amount*100/flip_tier3_mob[\"amount_transaction\"].max()"
   ]
  },
  {
   "cell_type": "code",
   "execution_count": 1195,
   "metadata": {},
   "outputs": [],
   "source": [
    "amazon_tier3_mob[\"trans_per\"] = amazon_tier3_mob[\"amount_transaction\"].apply(flipkart_per_mob3)\n",
    "flip_tier3_mob[\"trans_per\"] = flip_tier3_mob[\"amount_transaction\"].apply(flipkart_per_mob3)\n",
    "\n",
    "amazon_tier3_mob = amazon_tier3_mob.reset_index()\n",
    "flip_tier3_mob = flip_tier3_mob.reset_index()"
   ]
  },
  {
   "cell_type": "code",
   "execution_count": 1196,
   "metadata": {},
   "outputs": [
    {
     "data": {
      "text/plain": [
       "<matplotlib.axes._subplots.AxesSubplot at 0x1a5c1ba278>"
      ]
     },
     "execution_count": 1196,
     "metadata": {},
     "output_type": "execute_result"
    },
    {
     "data": {
      "image/png": "[encoded data removed]",
      "text/plain": [
       "<Figure size 1080x504 with 1 Axes>"
      ]
     },
     "metadata": {
      "needs_background": "light"
     },
     "output_type": "display_data"
    }
   ],
   "source": [
    "fig, ax = plt.subplots(figsize=(15,7))\n",
    "amazon_tier3_mob.plot(\"ordered_on\", \"trans_per\", style = 'b-', ax = ax)\n",
    "flip_tier3_mob.plot(\"ordered_on\", \"trans_per\", style = 'r-', ax = ax)"
   ]
  },
  {
   "cell_type": "code",
   "execution_count": 550,
   "metadata": {},
   "outputs": [],
   "source": [
    "#Mean transaction amount by category"
   ]
  },
  {
   "cell_type": "code",
   "execution_count": 551,
   "metadata": {},
   "outputs": [],
   "source": [
    "amazon_tran_cat = amazon.groupby(\"cat0\").mean()\n",
    "amazon_tran_cat = amazon_tran_cat.sort_values(by = \"amount\", ascending = False)\n",
    "amazon_tran_cat = amazon_tran_cat.reset_index()"
   ]
  },
  {
   "cell_type": "code",
   "execution_count": 552,
   "metadata": {},
   "outputs": [
    {
     "data": {
      "text/html": [
       "<div>\n",
       "<style scoped>\n",
       "    .dataframe tbody tr th:only-of-type {\n",
       "        vertical-align: middle;\n",
       "    }\n",
       "\n",
       "    .dataframe tbody tr th {\n",
       "        vertical-align: top;\n",
       "    }\n",
       "\n",
       "    .dataframe thead th {\n",
       "        text-align: right;\n",
       "    }\n",
       "</style>\n",
       "<table border=\"1\" class=\"dataframe\">\n",
       "  <thead>\n",
       "    <tr style=\"text-align: right;\">\n",
       "      <th></th>\n",
       "      <th>cat0</th>\n",
       "      <th>product_seq</th>\n",
       "      <th>unit_price</th>\n",
       "      <th>amount</th>\n",
       "      <th>quantity</th>\n",
       "      <th>postal_code</th>\n",
       "      <th>amount_transaction</th>\n",
       "    </tr>\n",
       "  </thead>\n",
       "  <tbody>\n",
       "    <tr>\n",
       "      <th>0</th>\n",
       "      <td>Electronics</td>\n",
       "      <td>1.115418</td>\n",
       "      <td>3323.263776</td>\n",
       "      <td>3344.140788</td>\n",
       "      <td>1.023210</td>\n",
       "      <td>465830.992809</td>\n",
       "      <td>3285.633451</td>\n",
       "    </tr>\n",
       "    <tr>\n",
       "      <th>1</th>\n",
       "      <td>Cameras &amp; Optics</td>\n",
       "      <td>1.143713</td>\n",
       "      <td>2944.588578</td>\n",
       "      <td>3177.525704</td>\n",
       "      <td>1.032186</td>\n",
       "      <td>477918.856712</td>\n",
       "      <td>3142.806370</td>\n",
       "    </tr>\n",
       "    <tr>\n",
       "      <th>2</th>\n",
       "      <td>Furniture</td>\n",
       "      <td>1.221239</td>\n",
       "      <td>1779.546618</td>\n",
       "      <td>1853.700993</td>\n",
       "      <td>1.054081</td>\n",
       "      <td>454546.762045</td>\n",
       "      <td>1800.657414</td>\n",
       "    </tr>\n",
       "    <tr>\n",
       "      <th>3</th>\n",
       "      <td>Luggage &amp; Bags</td>\n",
       "      <td>1.170513</td>\n",
       "      <td>1113.972654</td>\n",
       "      <td>1146.292739</td>\n",
       "      <td>1.029060</td>\n",
       "      <td>460917.960650</td>\n",
       "      <td>1266.803090</td>\n",
       "    </tr>\n",
       "    <tr>\n",
       "      <th>4</th>\n",
       "      <td>Home &amp; Garden</td>\n",
       "      <td>1.455335</td>\n",
       "      <td>948.547770</td>\n",
       "      <td>987.524535</td>\n",
       "      <td>1.087321</td>\n",
       "      <td>453812.758687</td>\n",
       "      <td>1133.040522</td>\n",
       "    </tr>\n",
       "    <tr>\n",
       "      <th>5</th>\n",
       "      <td>Animals &amp; Pet Supplies</td>\n",
       "      <td>1.255580</td>\n",
       "      <td>898.886213</td>\n",
       "      <td>955.124514</td>\n",
       "      <td>1.116631</td>\n",
       "      <td>460496.591499</td>\n",
       "      <td>1034.180583</td>\n",
       "    </tr>\n",
       "    <tr>\n",
       "      <th>6</th>\n",
       "      <td>Hardware</td>\n",
       "      <td>1.228119</td>\n",
       "      <td>850.939777</td>\n",
       "      <td>894.808473</td>\n",
       "      <td>1.058659</td>\n",
       "      <td>474645.555037</td>\n",
       "      <td>1111.156043</td>\n",
       "    </tr>\n",
       "    <tr>\n",
       "      <th>7</th>\n",
       "      <td>Software</td>\n",
       "      <td>1.215223</td>\n",
       "      <td>854.876168</td>\n",
       "      <td>865.603202</td>\n",
       "      <td>1.017060</td>\n",
       "      <td>459506.475690</td>\n",
       "      <td>1066.806457</td>\n",
       "    </tr>\n",
       "    <tr>\n",
       "      <th>8</th>\n",
       "      <td>Apparel &amp; Accessories</td>\n",
       "      <td>1.285522</td>\n",
       "      <td>685.941984</td>\n",
       "      <td>697.864822</td>\n",
       "      <td>1.028135</td>\n",
       "      <td>455258.414941</td>\n",
       "      <td>832.589527</td>\n",
       "    </tr>\n",
       "    <tr>\n",
       "      <th>9</th>\n",
       "      <td>Baby &amp; Toddler</td>\n",
       "      <td>1.286011</td>\n",
       "      <td>626.183340</td>\n",
       "      <td>668.460810</td>\n",
       "      <td>1.109880</td>\n",
       "      <td>468093.882367</td>\n",
       "      <td>754.445757</td>\n",
       "    </tr>\n",
       "  </tbody>\n",
       "</table>\n",
       "</div>"
      ],
      "text/plain": [
       "                     cat0  product_seq   unit_price       amount  quantity  \\\n",
       "0             Electronics     1.115418  3323.263776  3344.140788  1.023210   \n",
       "1        Cameras & Optics     1.143713  2944.588578  3177.525704  1.032186   \n",
       "2               Furniture     1.221239  1779.546618  1853.700993  1.054081   \n",
       "3          Luggage & Bags     1.170513  1113.972654  1146.292739  1.029060   \n",
       "4           Home & Garden     1.455335   948.547770   987.524535  1.087321   \n",
       "5  Animals & Pet Supplies     1.255580   898.886213   955.124514  1.116631   \n",
       "6                Hardware     1.228119   850.939777   894.808473  1.058659   \n",
       "7                Software     1.215223   854.876168   865.603202  1.017060   \n",
       "8   Apparel & Accessories     1.285522   685.941984   697.864822  1.028135   \n",
       "9          Baby & Toddler     1.286011   626.183340   668.460810  1.109880   \n",
       "\n",
       "     postal_code  amount_transaction  \n",
       "0  465830.992809         3285.633451  \n",
       "1  477918.856712         3142.806370  \n",
       "2  454546.762045         1800.657414  \n",
       "3  460917.960650         1266.803090  \n",
       "4  453812.758687         1133.040522  \n",
       "5  460496.591499         1034.180583  \n",
       "6  474645.555037         1111.156043  \n",
       "7  459506.475690         1066.806457  \n",
       "8  455258.414941          832.589527  \n",
       "9  468093.882367          754.445757  "
      ]
     },
     "execution_count": 552,
     "metadata": {},
     "output_type": "execute_result"
    }
   ],
   "source": [
    "amazon_tran_cat.head(10)"
   ]
  },
  {
   "cell_type": "code",
   "execution_count": 553,
   "metadata": {},
   "outputs": [],
   "source": [
    "flip_tran_cat = flipkart.groupby(\"cat0\").mean()\n",
    "flip_tran_cat = flip_tran_cat.sort_values(by = \"amount\", ascending = False)\n",
    "flip_tran_cat = flip_tran_cat.reset_index()"
   ]
  },
  {
   "cell_type": "code",
   "execution_count": 554,
   "metadata": {},
   "outputs": [
    {
     "data": {
      "text/html": [
       "<div>\n",
       "<style scoped>\n",
       "    .dataframe tbody tr th:only-of-type {\n",
       "        vertical-align: middle;\n",
       "    }\n",
       "\n",
       "    .dataframe tbody tr th {\n",
       "        vertical-align: top;\n",
       "    }\n",
       "\n",
       "    .dataframe thead th {\n",
       "        text-align: right;\n",
       "    }\n",
       "</style>\n",
       "<table border=\"1\" class=\"dataframe\">\n",
       "  <thead>\n",
       "    <tr style=\"text-align: right;\">\n",
       "      <th></th>\n",
       "      <th>cat0</th>\n",
       "      <th>product_seq</th>\n",
       "      <th>unit_price</th>\n",
       "      <th>amount</th>\n",
       "      <th>quantity</th>\n",
       "      <th>postal_code</th>\n",
       "      <th>amount_transaction</th>\n",
       "    </tr>\n",
       "  </thead>\n",
       "  <tbody>\n",
       "    <tr>\n",
       "      <th>0</th>\n",
       "      <td>Cameras &amp; Optics</td>\n",
       "      <td>1.265330</td>\n",
       "      <td>7698.133255</td>\n",
       "      <td>7820.357311</td>\n",
       "      <td>1.018868</td>\n",
       "      <td>514790.765330</td>\n",
       "      <td>7892.854953</td>\n",
       "    </tr>\n",
       "    <tr>\n",
       "      <th>1</th>\n",
       "      <td>Electronics</td>\n",
       "      <td>1.261851</td>\n",
       "      <td>4826.995963</td>\n",
       "      <td>4916.756379</td>\n",
       "      <td>1.021479</td>\n",
       "      <td>509127.508787</td>\n",
       "      <td>5266.573348</td>\n",
       "    </tr>\n",
       "    <tr>\n",
       "      <th>2</th>\n",
       "      <td>Furniture</td>\n",
       "      <td>1.506557</td>\n",
       "      <td>2553.080328</td>\n",
       "      <td>2599.696721</td>\n",
       "      <td>1.021311</td>\n",
       "      <td>503332.234426</td>\n",
       "      <td>3853.368852</td>\n",
       "    </tr>\n",
       "    <tr>\n",
       "      <th>3</th>\n",
       "      <td>Home &amp; Garden</td>\n",
       "      <td>2.067789</td>\n",
       "      <td>1278.997248</td>\n",
       "      <td>1354.980733</td>\n",
       "      <td>1.064486</td>\n",
       "      <td>497693.686447</td>\n",
       "      <td>2231.997877</td>\n",
       "    </tr>\n",
       "    <tr>\n",
       "      <th>4</th>\n",
       "      <td>Luggage &amp; Bags</td>\n",
       "      <td>1.355411</td>\n",
       "      <td>981.162034</td>\n",
       "      <td>1016.710231</td>\n",
       "      <td>1.017741</td>\n",
       "      <td>511822.197750</td>\n",
       "      <td>1628.986399</td>\n",
       "    </tr>\n",
       "    <tr>\n",
       "      <th>5</th>\n",
       "      <td>Software</td>\n",
       "      <td>1.542294</td>\n",
       "      <td>925.727694</td>\n",
       "      <td>935.975666</td>\n",
       "      <td>1.016222</td>\n",
       "      <td>480233.349942</td>\n",
       "      <td>9346.469293</td>\n",
       "    </tr>\n",
       "    <tr>\n",
       "      <th>6</th>\n",
       "      <td>Hardware</td>\n",
       "      <td>1.471781</td>\n",
       "      <td>771.643739</td>\n",
       "      <td>833.809524</td>\n",
       "      <td>1.075838</td>\n",
       "      <td>520855.263668</td>\n",
       "      <td>1340.293651</td>\n",
       "    </tr>\n",
       "    <tr>\n",
       "      <th>7</th>\n",
       "      <td>Vehicles &amp; Parts</td>\n",
       "      <td>1.356436</td>\n",
       "      <td>636.612961</td>\n",
       "      <td>728.886589</td>\n",
       "      <td>1.048605</td>\n",
       "      <td>518198.333033</td>\n",
       "      <td>910.654365</td>\n",
       "    </tr>\n",
       "    <tr>\n",
       "      <th>8</th>\n",
       "      <td>Apparel &amp; Accessories</td>\n",
       "      <td>1.601526</td>\n",
       "      <td>660.342380</td>\n",
       "      <td>679.385304</td>\n",
       "      <td>1.020417</td>\n",
       "      <td>506116.267120</td>\n",
       "      <td>1206.499965</td>\n",
       "    </tr>\n",
       "    <tr>\n",
       "      <th>9</th>\n",
       "      <td>Sporting Goods</td>\n",
       "      <td>1.342105</td>\n",
       "      <td>634.142105</td>\n",
       "      <td>667.510526</td>\n",
       "      <td>1.073684</td>\n",
       "      <td>494502.221053</td>\n",
       "      <td>933.326316</td>\n",
       "    </tr>\n",
       "  </tbody>\n",
       "</table>\n",
       "</div>"
      ],
      "text/plain": [
       "                    cat0  product_seq   unit_price       amount  quantity  \\\n",
       "0       Cameras & Optics     1.265330  7698.133255  7820.357311  1.018868   \n",
       "1            Electronics     1.261851  4826.995963  4916.756379  1.021479   \n",
       "2              Furniture     1.506557  2553.080328  2599.696721  1.021311   \n",
       "3          Home & Garden     2.067789  1278.997248  1354.980733  1.064486   \n",
       "4         Luggage & Bags     1.355411   981.162034  1016.710231  1.017741   \n",
       "5               Software     1.542294   925.727694   935.975666  1.016222   \n",
       "6               Hardware     1.471781   771.643739   833.809524  1.075838   \n",
       "7       Vehicles & Parts     1.356436   636.612961   728.886589  1.048605   \n",
       "8  Apparel & Accessories     1.601526   660.342380   679.385304  1.020417   \n",
       "9         Sporting Goods     1.342105   634.142105   667.510526  1.073684   \n",
       "\n",
       "     postal_code  amount_transaction  \n",
       "0  514790.765330         7892.854953  \n",
       "1  509127.508787         5266.573348  \n",
       "2  503332.234426         3853.368852  \n",
       "3  497693.686447         2231.997877  \n",
       "4  511822.197750         1628.986399  \n",
       "5  480233.349942         9346.469293  \n",
       "6  520855.263668         1340.293651  \n",
       "7  518198.333033          910.654365  \n",
       "8  506116.267120         1206.499965  \n",
       "9  494502.221053          933.326316  "
      ]
     },
     "execution_count": 554,
     "metadata": {},
     "output_type": "execute_result"
    }
   ],
   "source": [
    "flip_tran_cat.head(10)"
   ]
  },
  {
   "cell_type": "code",
   "execution_count": 555,
   "metadata": {},
   "outputs": [],
   "source": [
    "ama_categories = list(amazon_tran_cat[\"cat0\"])\n",
    "ama_cat_amount = list(amazon_tran_cat[\"amount\"])\n",
    "\n",
    "flip_categories = list(flip_tran_cat[\"cat0\"])\n",
    "flip_cat_amount = list(flip_tran_cat[\"amount\"])"
   ]
  },
  {
   "cell_type": "code",
   "execution_count": 1075,
   "metadata": {},
   "outputs": [
    {
     "data": {
      "text/plain": [
       "Text(0, 0.5, 'Rupees')"
      ]
     },
     "execution_count": 1075,
     "metadata": {},
     "output_type": "execute_result"
    },
    {
     "data": {
      "image/png": "[encoded data removed]",
      "text/plain": [
       "<Figure size 576x432 with 1 Axes>"
      ]
     },
     "metadata": {
      "needs_background": "light"
     },
     "output_type": "display_data"
    }
   ],
   "source": [
    "plt.subplots(figsize=(8, 6))\n",
    "plt.bar(ama_categories, ama_cat_amount)\n",
    "plt.xticks(ama_categories, rotation=90)\n",
    "plt.yticks(np.arange(0, 9000, 1000))\n",
    "plt.title(\"Customers' average spending on Amazon, by Category\", fontsize = 14)\n",
    "plt.ylabel(\"Rupees\", fontsize = 14)"
   ]
  },
  {
   "cell_type": "code",
   "execution_count": 1250,
   "metadata": {},
   "outputs": [
    {
     "data": {
      "text/plain": [
       "Text(0, 0.5, 'Rupees')"
      ]
     },
     "execution_count": 1250,
     "metadata": {},
     "output_type": "execute_result"
    },
    {
     "data": {
      "image/png": "[encoded data removed]",
      "text/plain": [
       "<Figure size 576x432 with 1 Axes>"
      ]
     },
     "metadata": {
      "needs_background": "light"
     },
     "output_type": "display_data"
    }
   ],
   "source": [
    "plt.subplots(figsize=(8, 6))\n",
    "plt.bar(flip_categories, flip_cat_amount)\n",
    "plt.xticks(flip_categories, rotation=90)\n",
    "plt.title(\"Customers' average spending on Flipkart, by Category\", fontsize = 14)\n",
    "plt.ylabel(\"Rupees\", fontsize = 14)"
   ]
  },
  {
   "cell_type": "code",
   "execution_count": 1203,
   "metadata": {},
   "outputs": [],
   "source": [
    "f_optics = flipkart.loc[flipkart[\"cat0\"] == \"Cameras & Optics\"]"
   ]
  },
  {
   "cell_type": "code",
   "execution_count": 558,
   "metadata": {},
   "outputs": [],
   "source": [
    "#Number of purchases by clients"
   ]
  },
  {
   "cell_type": "code",
   "execution_count": 685,
   "metadata": {},
   "outputs": [],
   "source": [
    "amazon[\"num_or_purchases\"] = 1\n",
    "flipkart[\"num_or_purchases\"] = 1"
   ]
  },
  {
   "cell_type": "code",
   "execution_count": 754,
   "metadata": {},
   "outputs": [],
   "source": [
    "amazon_client_sum = amazon.groupby(\"user_code\").sum()\n",
    "amazon_client_sum = amazon_client_sum.sort_values(by = \"num_or_purchases\", ascending = False)\n",
    "amazon_client_sum = amazon_client_sum.reset_index()\n",
    "\n",
    "flipkart_client_sum = flipkart.groupby(\"user_code\").sum()\n",
    "flipkart_client_sum = flipkart_client_sum.sort_values(by = \"num_or_purchases\", ascending = False)\n",
    "flipkart_client_sum = flipkart_client_sum.reset_index()\n",
    "\n",
    "amazon_client_sum = amazon_client_sum.rename(columns = {\"amount\" : \"sum_amount\", \"amount_transaction\" : \"sum_amount_transaction\"})\n",
    "flipkart_client_sum = flipkart_client_sum.rename(columns = {\"amount\" : \"sum_amount\", \"amount_transaction\" : \"sum_amount_transaction\"})"
   ]
  },
  {
   "cell_type": "code",
   "execution_count": 755,
   "metadata": {},
   "outputs": [
    {
     "data": {
      "text/html": [
       "<div>\n",
       "<style scoped>\n",
       "    .dataframe tbody tr th:only-of-type {\n",
       "        vertical-align: middle;\n",
       "    }\n",
       "\n",
       "    .dataframe tbody tr th {\n",
       "        vertical-align: top;\n",
       "    }\n",
       "\n",
       "    .dataframe thead th {\n",
       "        text-align: right;\n",
       "    }\n",
       "</style>\n",
       "<table border=\"1\" class=\"dataframe\">\n",
       "  <thead>\n",
       "    <tr style=\"text-align: right;\">\n",
       "      <th></th>\n",
       "      <th>user_code</th>\n",
       "      <th>product_seq</th>\n",
       "      <th>unit_price</th>\n",
       "      <th>sum_amount</th>\n",
       "      <th>quantity</th>\n",
       "      <th>postal_code</th>\n",
       "      <th>sum_amount_transaction</th>\n",
       "      <th>num_or_purchases</th>\n",
       "    </tr>\n",
       "  </thead>\n",
       "  <tbody>\n",
       "    <tr>\n",
       "      <th>0</th>\n",
       "      <td>crir1744</td>\n",
       "      <td>410</td>\n",
       "      <td>183850.80</td>\n",
       "      <td>197438.80</td>\n",
       "      <td>380</td>\n",
       "      <td>266783665.0</td>\n",
       "      <td>223245.25</td>\n",
       "      <td>323</td>\n",
       "    </tr>\n",
       "    <tr>\n",
       "      <th>1</th>\n",
       "      <td>cs1xfqnt</td>\n",
       "      <td>800</td>\n",
       "      <td>315607.45</td>\n",
       "      <td>329143.45</td>\n",
       "      <td>274</td>\n",
       "      <td>93231242.0</td>\n",
       "      <td>601955.02</td>\n",
       "      <td>241</td>\n",
       "    </tr>\n",
       "    <tr>\n",
       "      <th>2</th>\n",
       "      <td>csktqj64</td>\n",
       "      <td>1122</td>\n",
       "      <td>296834.27</td>\n",
       "      <td>299449.27</td>\n",
       "      <td>247</td>\n",
       "      <td>76592811.0</td>\n",
       "      <td>539785.56</td>\n",
       "      <td>240</td>\n",
       "    </tr>\n",
       "    <tr>\n",
       "      <th>3</th>\n",
       "      <td>ct6ov9wc</td>\n",
       "      <td>263</td>\n",
       "      <td>150775.52</td>\n",
       "      <td>160097.52</td>\n",
       "      <td>242</td>\n",
       "      <td>48108228.0</td>\n",
       "      <td>195020.46</td>\n",
       "      <td>228</td>\n",
       "    </tr>\n",
       "    <tr>\n",
       "      <th>4</th>\n",
       "      <td>crliy8it</td>\n",
       "      <td>385</td>\n",
       "      <td>177043.45</td>\n",
       "      <td>198076.45</td>\n",
       "      <td>236</td>\n",
       "      <td>115142222.0</td>\n",
       "      <td>287019.45</td>\n",
       "      <td>202</td>\n",
       "    </tr>\n",
       "  </tbody>\n",
       "</table>\n",
       "</div>"
      ],
      "text/plain": [
       "  user_code  product_seq  unit_price  sum_amount  quantity  postal_code  \\\n",
       "0  crir1744          410   183850.80   197438.80       380  266783665.0   \n",
       "1  cs1xfqnt          800   315607.45   329143.45       274   93231242.0   \n",
       "2  csktqj64         1122   296834.27   299449.27       247   76592811.0   \n",
       "3  ct6ov9wc          263   150775.52   160097.52       242   48108228.0   \n",
       "4  crliy8it          385   177043.45   198076.45       236  115142222.0   \n",
       "\n",
       "   sum_amount_transaction  num_or_purchases  \n",
       "0               223245.25               323  \n",
       "1               601955.02               241  \n",
       "2               539785.56               240  \n",
       "3               195020.46               228  \n",
       "4               287019.45               202  "
      ]
     },
     "execution_count": 755,
     "metadata": {},
     "output_type": "execute_result"
    }
   ],
   "source": [
    "amazon_client_sum.head()"
   ]
  },
  {
   "cell_type": "code",
   "execution_count": 752,
   "metadata": {},
   "outputs": [],
   "source": [
    "amazon_client_mean = amazon.loc[:, [\"user_code\", \"amount\", \"amount_transaction\"]].groupby(\"user_code\").mean()\n",
    "flipkart_client_mean = flipkart.loc[:, [\"user_code\", \"amount\", \"amount_transaction\"]].groupby(\"user_code\").mean()\n",
    "\n",
    "amazon_client_mean = amazon_client_mean.rename(columns = {\"amount\" : \"mean_amount\", \"amount_transaction\" : \"mean_amount_transaction\"})\n",
    "flipkart_client_mean = flipkart_client_mean.rename(columns = {\"amount\" : \"mean_amount\", \"amount_transaction\" : \"mean_amount_transaction\"})\n"
   ]
  },
  {
   "cell_type": "code",
   "execution_count": 753,
   "metadata": {},
   "outputs": [
    {
     "data": {
      "text/html": [
       "<div>\n",
       "<style scoped>\n",
       "    .dataframe tbody tr th:only-of-type {\n",
       "        vertical-align: middle;\n",
       "    }\n",
       "\n",
       "    .dataframe tbody tr th {\n",
       "        vertical-align: top;\n",
       "    }\n",
       "\n",
       "    .dataframe thead th {\n",
       "        text-align: right;\n",
       "    }\n",
       "</style>\n",
       "<table border=\"1\" class=\"dataframe\">\n",
       "  <thead>\n",
       "    <tr style=\"text-align: right;\">\n",
       "      <th></th>\n",
       "      <th>mean_amount</th>\n",
       "      <th>mean_amount_transaction</th>\n",
       "    </tr>\n",
       "    <tr>\n",
       "      <th>user_code</th>\n",
       "      <th></th>\n",
       "      <th></th>\n",
       "    </tr>\n",
       "  </thead>\n",
       "  <tbody>\n",
       "    <tr>\n",
       "      <th>cre67l9i</th>\n",
       "      <td>532.666667</td>\n",
       "      <td>556.000000</td>\n",
       "    </tr>\n",
       "    <tr>\n",
       "      <th>cre69cbq</th>\n",
       "      <td>4198.500000</td>\n",
       "      <td>4198.500000</td>\n",
       "    </tr>\n",
       "    <tr>\n",
       "      <th>cre69pm5</th>\n",
       "      <td>375.888889</td>\n",
       "      <td>419.777778</td>\n",
       "    </tr>\n",
       "    <tr>\n",
       "      <th>cre6bale</th>\n",
       "      <td>1474.090909</td>\n",
       "      <td>1379.203182</td>\n",
       "    </tr>\n",
       "    <tr>\n",
       "      <th>cre6fyvy</th>\n",
       "      <td>906.000000</td>\n",
       "      <td>906.000000</td>\n",
       "    </tr>\n",
       "  </tbody>\n",
       "</table>\n",
       "</div>"
      ],
      "text/plain": [
       "           mean_amount  mean_amount_transaction\n",
       "user_code                                      \n",
       "cre67l9i    532.666667               556.000000\n",
       "cre69cbq   4198.500000              4198.500000\n",
       "cre69pm5    375.888889               419.777778\n",
       "cre6bale   1474.090909              1379.203182\n",
       "cre6fyvy    906.000000               906.000000"
      ]
     },
     "execution_count": 753,
     "metadata": {},
     "output_type": "execute_result"
    }
   ],
   "source": [
    "amazon_client_mean.head()"
   ]
  },
  {
   "cell_type": "code",
   "execution_count": 763,
   "metadata": {},
   "outputs": [],
   "source": [
    "amazon_clients = pd.merge(amazon_client_sum, amazon_client_mean, how = \"inner\", left_on = \"user_code\", right_index = True)\n",
    "flipkart_clients = pd.merge(flipkart_client_sum, flipkart_client_mean, how = \"inner\", left_on = \"user_code\", right_index = True)"
   ]
  },
  {
   "cell_type": "code",
   "execution_count": 766,
   "metadata": {},
   "outputs": [
    {
     "data": {
      "text/plain": [
       "count    23242.000000\n",
       "mean         6.339515\n",
       "std         11.619029\n",
       "min          1.000000\n",
       "25%          1.000000\n",
       "50%          3.000000\n",
       "75%          6.000000\n",
       "max        323.000000\n",
       "Name: num_or_purchases, dtype: float64"
      ]
     },
     "execution_count": 766,
     "metadata": {},
     "output_type": "execute_result"
    }
   ],
   "source": [
    "amazon_clients[\"num_or_purchases\"].describe()"
   ]
  },
  {
   "cell_type": "code",
   "execution_count": 1079,
   "metadata": {},
   "outputs": [
    {
     "data": {
      "text/plain": [
       "count    23242.000000\n",
       "mean      1719.451744\n",
       "std       3583.928035\n",
       "min          0.000000\n",
       "25%        329.931818\n",
       "50%        568.000000\n",
       "75%       1287.300000\n",
       "max      96900.000000\n",
       "Name: mean_amount, dtype: float64"
      ]
     },
     "execution_count": 1079,
     "metadata": {},
     "output_type": "execute_result"
    }
   ],
   "source": [
    "amazon_clients[\"mean_amount\"].describe()"
   ]
  },
  {
   "cell_type": "code",
   "execution_count": 767,
   "metadata": {},
   "outputs": [
    {
     "data": {
      "text/plain": [
       "count    14737.000000\n",
       "mean         7.535523\n",
       "std         12.969379\n",
       "min          1.000000\n",
       "25%          2.000000\n",
       "50%          3.000000\n",
       "75%          8.000000\n",
       "max        233.000000\n",
       "Name: num_or_purchases, dtype: float64"
      ]
     },
     "execution_count": 767,
     "metadata": {},
     "output_type": "execute_result"
    }
   ],
   "source": [
    "flipkart_clients[\"num_or_purchases\"].describe()"
   ]
  },
  {
   "cell_type": "code",
   "execution_count": 1078,
   "metadata": {},
   "outputs": [
    {
     "data": {
      "text/plain": [
       "count     14737.000000\n",
       "mean       2859.509077\n",
       "std        5208.804463\n",
       "min           1.000000\n",
       "25%         405.500000\n",
       "50%         925.075472\n",
       "75%        3198.666667\n",
       "max      239960.000000\n",
       "Name: mean_amount, dtype: float64"
      ]
     },
     "execution_count": 1078,
     "metadata": {},
     "output_type": "execute_result"
    }
   ],
   "source": [
    "flipkart_clients[\"mean_amount\"].describe()"
   ]
  },
  {
   "cell_type": "code",
   "execution_count": 1082,
   "metadata": {},
   "outputs": [
    {
     "data": {
      "text/plain": [
       "count    147343.000000\n",
       "mean       1392.673635\n",
       "std        4272.041050\n",
       "min           0.000000\n",
       "25%         220.000000\n",
       "50%         399.000000\n",
       "75%         799.000000\n",
       "max      159990.000000\n",
       "Name: amount, dtype: float64"
      ]
     },
     "execution_count": 1082,
     "metadata": {},
     "output_type": "execute_result"
    }
   ],
   "source": [
    "amazon[\"amount\"].describe()"
   ]
  },
  {
   "cell_type": "code",
   "execution_count": 1083,
   "metadata": {},
   "outputs": [
    {
     "data": {
      "text/plain": [
       "count    111051.000000\n",
       "mean       1932.700489\n",
       "std        5159.668190\n",
       "min           0.000000\n",
       "25%         170.000000\n",
       "50%         370.000000\n",
       "75%         899.000000\n",
       "max      239960.000000\n",
       "Name: amount, dtype: float64"
      ]
     },
     "execution_count": 1083,
     "metadata": {},
     "output_type": "execute_result"
    }
   ],
   "source": [
    "flipkart[\"amount\"].describe()"
   ]
  },
  {
   "cell_type": "code",
   "execution_count": 775,
   "metadata": {},
   "outputs": [
    {
     "data": {
      "text/html": [
       "<div>\n",
       "<style scoped>\n",
       "    .dataframe tbody tr th:only-of-type {\n",
       "        vertical-align: middle;\n",
       "    }\n",
       "\n",
       "    .dataframe tbody tr th {\n",
       "        vertical-align: top;\n",
       "    }\n",
       "\n",
       "    .dataframe thead th {\n",
       "        text-align: right;\n",
       "    }\n",
       "</style>\n",
       "<table border=\"1\" class=\"dataframe\">\n",
       "  <thead>\n",
       "    <tr style=\"text-align: right;\">\n",
       "      <th></th>\n",
       "      <th>user_code</th>\n",
       "      <th>product_seq</th>\n",
       "      <th>unit_price</th>\n",
       "      <th>sum_amount</th>\n",
       "      <th>quantity</th>\n",
       "      <th>postal_code</th>\n",
       "      <th>sum_amount_transaction</th>\n",
       "      <th>num_or_purchases</th>\n",
       "      <th>mean_amount</th>\n",
       "      <th>mean_amount_transaction</th>\n",
       "    </tr>\n",
       "  </thead>\n",
       "  <tbody>\n",
       "    <tr>\n",
       "      <th>0</th>\n",
       "      <td>crir1744</td>\n",
       "      <td>410</td>\n",
       "      <td>183850.80</td>\n",
       "      <td>197438.80</td>\n",
       "      <td>380</td>\n",
       "      <td>266783665.0</td>\n",
       "      <td>223245.25</td>\n",
       "      <td>323</td>\n",
       "      <td>611.265635</td>\n",
       "      <td>691.161765</td>\n",
       "    </tr>\n",
       "    <tr>\n",
       "      <th>1</th>\n",
       "      <td>cs1xfqnt</td>\n",
       "      <td>800</td>\n",
       "      <td>315607.45</td>\n",
       "      <td>329143.45</td>\n",
       "      <td>274</td>\n",
       "      <td>93231242.0</td>\n",
       "      <td>601955.02</td>\n",
       "      <td>241</td>\n",
       "      <td>1365.740456</td>\n",
       "      <td>2497.738672</td>\n",
       "    </tr>\n",
       "    <tr>\n",
       "      <th>2</th>\n",
       "      <td>csktqj64</td>\n",
       "      <td>1122</td>\n",
       "      <td>296834.27</td>\n",
       "      <td>299449.27</td>\n",
       "      <td>247</td>\n",
       "      <td>76592811.0</td>\n",
       "      <td>539785.56</td>\n",
       "      <td>240</td>\n",
       "      <td>1247.705292</td>\n",
       "      <td>2249.106500</td>\n",
       "    </tr>\n",
       "    <tr>\n",
       "      <th>3</th>\n",
       "      <td>ct6ov9wc</td>\n",
       "      <td>263</td>\n",
       "      <td>150775.52</td>\n",
       "      <td>160097.52</td>\n",
       "      <td>242</td>\n",
       "      <td>48108228.0</td>\n",
       "      <td>195020.46</td>\n",
       "      <td>228</td>\n",
       "      <td>702.182105</td>\n",
       "      <td>855.352895</td>\n",
       "    </tr>\n",
       "    <tr>\n",
       "      <th>4</th>\n",
       "      <td>crliy8it</td>\n",
       "      <td>385</td>\n",
       "      <td>177043.45</td>\n",
       "      <td>198076.45</td>\n",
       "      <td>236</td>\n",
       "      <td>115142222.0</td>\n",
       "      <td>287019.45</td>\n",
       "      <td>202</td>\n",
       "      <td>980.576485</td>\n",
       "      <td>1420.888366</td>\n",
       "    </tr>\n",
       "  </tbody>\n",
       "</table>\n",
       "</div>"
      ],
      "text/plain": [
       "  user_code  product_seq  unit_price  sum_amount  quantity  postal_code  \\\n",
       "0  crir1744          410   183850.80   197438.80       380  266783665.0   \n",
       "1  cs1xfqnt          800   315607.45   329143.45       274   93231242.0   \n",
       "2  csktqj64         1122   296834.27   299449.27       247   76592811.0   \n",
       "3  ct6ov9wc          263   150775.52   160097.52       242   48108228.0   \n",
       "4  crliy8it          385   177043.45   198076.45       236  115142222.0   \n",
       "\n",
       "   sum_amount_transaction  num_or_purchases  mean_amount  \\\n",
       "0               223245.25               323   611.265635   \n",
       "1               601955.02               241  1365.740456   \n",
       "2               539785.56               240  1247.705292   \n",
       "3               195020.46               228   702.182105   \n",
       "4               287019.45               202   980.576485   \n",
       "\n",
       "   mean_amount_transaction  \n",
       "0               691.161765  \n",
       "1              2497.738672  \n",
       "2              2249.106500  \n",
       "3               855.352895  \n",
       "4              1420.888366  "
      ]
     },
     "execution_count": 775,
     "metadata": {},
     "output_type": "execute_result"
    }
   ],
   "source": [
    "amazon_clients.head()"
   ]
  },
  {
   "cell_type": "code",
   "execution_count": 776,
   "metadata": {},
   "outputs": [
    {
     "data": {
      "text/html": [
       "<div>\n",
       "<style scoped>\n",
       "    .dataframe tbody tr th:only-of-type {\n",
       "        vertical-align: middle;\n",
       "    }\n",
       "\n",
       "    .dataframe tbody tr th {\n",
       "        vertical-align: top;\n",
       "    }\n",
       "\n",
       "    .dataframe thead th {\n",
       "        text-align: right;\n",
       "    }\n",
       "</style>\n",
       "<table border=\"1\" class=\"dataframe\">\n",
       "  <thead>\n",
       "    <tr style=\"text-align: right;\">\n",
       "      <th></th>\n",
       "      <th>user_code</th>\n",
       "      <th>product_seq</th>\n",
       "      <th>unit_price</th>\n",
       "      <th>sum_amount</th>\n",
       "      <th>quantity</th>\n",
       "      <th>postal_code</th>\n",
       "      <th>sum_amount_transaction</th>\n",
       "      <th>num_or_purchases</th>\n",
       "      <th>mean_amount</th>\n",
       "      <th>mean_amount_transaction</th>\n",
       "    </tr>\n",
       "  </thead>\n",
       "  <tbody>\n",
       "    <tr>\n",
       "      <th>0</th>\n",
       "      <td>ct9nc1z3</td>\n",
       "      <td>3214</td>\n",
       "      <td>183561.0</td>\n",
       "      <td>184757.0</td>\n",
       "      <td>235</td>\n",
       "      <td>41201314.0</td>\n",
       "      <td>475487.0</td>\n",
       "      <td>233</td>\n",
       "      <td>792.948498</td>\n",
       "      <td>2040.716738</td>\n",
       "    </tr>\n",
       "    <tr>\n",
       "      <th>1</th>\n",
       "      <td>crwk1uxx</td>\n",
       "      <td>2752</td>\n",
       "      <td>88267.0</td>\n",
       "      <td>89465.0</td>\n",
       "      <td>227</td>\n",
       "      <td>126566780.0</td>\n",
       "      <td>318804.0</td>\n",
       "      <td>226</td>\n",
       "      <td>395.862832</td>\n",
       "      <td>1410.637168</td>\n",
       "    </tr>\n",
       "    <tr>\n",
       "      <th>2</th>\n",
       "      <td>ct5na02o</td>\n",
       "      <td>1276</td>\n",
       "      <td>59979.0</td>\n",
       "      <td>59979.0</td>\n",
       "      <td>221</td>\n",
       "      <td>42375765.0</td>\n",
       "      <td>242938.0</td>\n",
       "      <td>221</td>\n",
       "      <td>271.398190</td>\n",
       "      <td>1099.266968</td>\n",
       "    </tr>\n",
       "    <tr>\n",
       "      <th>3</th>\n",
       "      <td>cri7kk52</td>\n",
       "      <td>970</td>\n",
       "      <td>69640.0</td>\n",
       "      <td>69818.0</td>\n",
       "      <td>211</td>\n",
       "      <td>24009480.0</td>\n",
       "      <td>173158.0</td>\n",
       "      <td>210</td>\n",
       "      <td>332.466667</td>\n",
       "      <td>824.561905</td>\n",
       "    </tr>\n",
       "    <tr>\n",
       "      <th>4</th>\n",
       "      <td>crfghtge</td>\n",
       "      <td>825</td>\n",
       "      <td>157505.0</td>\n",
       "      <td>161909.0</td>\n",
       "      <td>201</td>\n",
       "      <td>97578214.0</td>\n",
       "      <td>460599.0</td>\n",
       "      <td>193</td>\n",
       "      <td>838.906736</td>\n",
       "      <td>2386.523316</td>\n",
       "    </tr>\n",
       "  </tbody>\n",
       "</table>\n",
       "</div>"
      ],
      "text/plain": [
       "  user_code  product_seq  unit_price  sum_amount  quantity  postal_code  \\\n",
       "0  ct9nc1z3         3214    183561.0    184757.0       235   41201314.0   \n",
       "1  crwk1uxx         2752     88267.0     89465.0       227  126566780.0   \n",
       "2  ct5na02o         1276     59979.0     59979.0       221   42375765.0   \n",
       "3  cri7kk52          970     69640.0     69818.0       211   24009480.0   \n",
       "4  crfghtge          825    157505.0    161909.0       201   97578214.0   \n",
       "\n",
       "   sum_amount_transaction  num_or_purchases  mean_amount  \\\n",
       "0                475487.0               233   792.948498   \n",
       "1                318804.0               226   395.862832   \n",
       "2                242938.0               221   271.398190   \n",
       "3                173158.0               210   332.466667   \n",
       "4                460599.0               193   838.906736   \n",
       "\n",
       "   mean_amount_transaction  \n",
       "0              2040.716738  \n",
       "1              1410.637168  \n",
       "2              1099.266968  \n",
       "3               824.561905  \n",
       "4              2386.523316  "
      ]
     },
     "execution_count": 776,
     "metadata": {},
     "output_type": "execute_result"
    }
   ],
   "source": [
    "flipkart_clients.head()"
   ]
  },
  {
   "cell_type": "code",
   "execution_count": 788,
   "metadata": {},
   "outputs": [],
   "source": [
    "#Users that buy from Amazon and Flipkart"
   ]
  },
  {
   "cell_type": "code",
   "execution_count": 773,
   "metadata": {},
   "outputs": [
    {
     "data": {
      "text/plain": [
       "23242"
      ]
     },
     "execution_count": 773,
     "metadata": {},
     "output_type": "execute_result"
    }
   ],
   "source": [
    "len(amazon_client_base)"
   ]
  },
  {
   "cell_type": "code",
   "execution_count": 1295,
   "metadata": {},
   "outputs": [],
   "source": [
    "amazon_client_base_samp = list(amazon_user_samp[\"user_code\"])\n",
    "flipkart_client_base = list(flipkart_clients[\"user_code\"])"
   ]
  },
  {
   "cell_type": "code",
   "execution_count": 1298,
   "metadata": {},
   "outputs": [],
   "source": [
    "users_both = []\n",
    "for user in amazon_client_base_samp:\n",
    "    if user in flipkart_client_base:\n",
    "        users_both.append(user)"
   ]
  },
  {
   "cell_type": "code",
   "execution_count": 1300,
   "metadata": {},
   "outputs": [
    {
     "data": {
      "text/plain": [
       "3442"
      ]
     },
     "execution_count": 1300,
     "metadata": {},
     "output_type": "execute_result"
    }
   ],
   "source": [
    "len(users_both)"
   ]
  },
  {
   "cell_type": "code",
   "execution_count": 1292,
   "metadata": {},
   "outputs": [],
   "source": [
    "amazon_user_samp = amazon_clients.sample(n = 14737, replace = False) "
   ]
  },
  {
   "cell_type": "code",
   "execution_count": 1293,
   "metadata": {},
   "outputs": [],
   "source": [
    "users_both = []\n",
    "for user in amaz:\n",
    "    if user in flipkart_client_base:\n",
    "        users_both.append(user)"
   ]
  },
  {
   "cell_type": "code",
   "execution_count": 781,
   "metadata": {},
   "outputs": [
    {
     "data": {
      "text/plain": [
       "5400"
      ]
     },
     "execution_count": 781,
     "metadata": {},
     "output_type": "execute_result"
    }
   ],
   "source": [
    "len(users_both)"
   ]
  },
  {
   "cell_type": "code",
   "execution_count": 785,
   "metadata": {},
   "outputs": [],
   "source": [
    "amazon_per_using_flip = len(users_both)/len(amazon_client_base)*100\n",
    "flip_per_using_amazon = len(users_both)/len(flipkart_client_base)*100"
   ]
  },
  {
   "cell_type": "code",
   "execution_count": 786,
   "metadata": {},
   "outputs": [
    {
     "data": {
      "text/plain": [
       "23.233800877721368"
      ]
     },
     "execution_count": 786,
     "metadata": {},
     "output_type": "execute_result"
    }
   ],
   "source": [
    "amazon_per_using_flip"
   ]
  },
  {
   "cell_type": "code",
   "execution_count": 787,
   "metadata": {},
   "outputs": [
    {
     "data": {
      "text/plain": [
       "36.642464545022726"
      ]
     },
     "execution_count": 787,
     "metadata": {},
     "output_type": "execute_result"
    }
   ],
   "source": [
    "flip_per_using_amazon"
   ]
  },
  {
   "cell_type": "code",
   "execution_count": 856,
   "metadata": {},
   "outputs": [],
   "source": [
    "inte_amazon = amazon.copy()\n",
    "inte_amazon[\"in_both\"] = inte_amazon[\"user_code\"].isin(users_both)\n",
    "inte_amazon1 = inte_amazon.loc[inte_amazon[\"in_both\"] == True]\n",
    "inte_amazon2 = inte_amazon1.groupby(\"user_code\").sum()\n",
    "inte_amazon3 = inte_amazon2.drop(columns = [\"product_seq\", \"unit_price\", \"quantity\", \"postal_code\", \"in_both\"])\n",
    "inte_amazon_final = inte_amazon3.rename(columns = {\"amount\" : \"amazon_amount_sum\", \"amount_transaction\" : \"amazon_amount_transaction_sum\", \"num_or_purchases\" : \"amazon_num_or_purchases\"})"
   ]
  },
  {
   "cell_type": "code",
   "execution_count": 857,
   "metadata": {},
   "outputs": [],
   "source": [
    "inte_amazon_mean = inte_amazon1.groupby(\"user_code\").mean()\n",
    "inte_amazon_mean1 = inte_amazon_mean.drop(columns = [\"product_seq\", \"unit_price\", \"quantity\", \"postal_code\", \"in_both\", \"num_or_purchases\"])\n",
    "inte_amazon_meanF = inte_amazon_mean1.rename(columns = {\"amount\" : \"amazon_amount_mean\", \"amount_transaction\" : \"amazon_amount_transaction_mean\", \"num_or_purchases\" : \"amazon_num_or_purchases\"})\n"
   ]
  },
  {
   "cell_type": "code",
   "execution_count": 858,
   "metadata": {},
   "outputs": [],
   "source": [
    "integrated_amazon_users = pd.merge(inte_amazon_final, inte_amazon_meanF, how = \"inner\", left_index = True, right_index = True)"
   ]
  },
  {
   "cell_type": "code",
   "execution_count": 859,
   "metadata": {},
   "outputs": [
    {
     "data": {
      "text/html": [
       "<div>\n",
       "<style scoped>\n",
       "    .dataframe tbody tr th:only-of-type {\n",
       "        vertical-align: middle;\n",
       "    }\n",
       "\n",
       "    .dataframe tbody tr th {\n",
       "        vertical-align: top;\n",
       "    }\n",
       "\n",
       "    .dataframe thead th {\n",
       "        text-align: right;\n",
       "    }\n",
       "</style>\n",
       "<table border=\"1\" class=\"dataframe\">\n",
       "  <thead>\n",
       "    <tr style=\"text-align: right;\">\n",
       "      <th></th>\n",
       "      <th>amazon_amount_sum</th>\n",
       "      <th>amazon_amount_transaction_sum</th>\n",
       "      <th>amazon_num_or_purchases</th>\n",
       "      <th>amazon_amount_mean</th>\n",
       "      <th>amazon_amount_transaction_mean</th>\n",
       "    </tr>\n",
       "    <tr>\n",
       "      <th>user_code</th>\n",
       "      <th></th>\n",
       "      <th></th>\n",
       "      <th></th>\n",
       "      <th></th>\n",
       "      <th></th>\n",
       "    </tr>\n",
       "  </thead>\n",
       "  <tbody>\n",
       "    <tr>\n",
       "      <th>cre6xrn2</th>\n",
       "      <td>897.0</td>\n",
       "      <td>977.0</td>\n",
       "      <td>3</td>\n",
       "      <td>299.000000</td>\n",
       "      <td>325.666667</td>\n",
       "    </tr>\n",
       "    <tr>\n",
       "      <th>cre7qfb9</th>\n",
       "      <td>752.0</td>\n",
       "      <td>552.0</td>\n",
       "      <td>2</td>\n",
       "      <td>376.000000</td>\n",
       "      <td>276.000000</td>\n",
       "    </tr>\n",
       "    <tr>\n",
       "      <th>cre7wqpv</th>\n",
       "      <td>3094.0</td>\n",
       "      <td>3666.0</td>\n",
       "      <td>5</td>\n",
       "      <td>618.800000</td>\n",
       "      <td>733.200000</td>\n",
       "    </tr>\n",
       "    <tr>\n",
       "      <th>cre7wqq1</th>\n",
       "      <td>22793.3</td>\n",
       "      <td>23299.8</td>\n",
       "      <td>57</td>\n",
       "      <td>399.882456</td>\n",
       "      <td>408.768421</td>\n",
       "    </tr>\n",
       "    <tr>\n",
       "      <th>cre7wqrq</th>\n",
       "      <td>10714.0</td>\n",
       "      <td>10714.0</td>\n",
       "      <td>2</td>\n",
       "      <td>5357.000000</td>\n",
       "      <td>5357.000000</td>\n",
       "    </tr>\n",
       "  </tbody>\n",
       "</table>\n",
       "</div>"
      ],
      "text/plain": [
       "           amazon_amount_sum  amazon_amount_transaction_sum  \\\n",
       "user_code                                                     \n",
       "cre6xrn2               897.0                          977.0   \n",
       "cre7qfb9               752.0                          552.0   \n",
       "cre7wqpv              3094.0                         3666.0   \n",
       "cre7wqq1             22793.3                        23299.8   \n",
       "cre7wqrq             10714.0                        10714.0   \n",
       "\n",
       "           amazon_num_or_purchases  amazon_amount_mean  \\\n",
       "user_code                                                \n",
       "cre6xrn2                         3          299.000000   \n",
       "cre7qfb9                         2          376.000000   \n",
       "cre7wqpv                         5          618.800000   \n",
       "cre7wqq1                        57          399.882456   \n",
       "cre7wqrq                         2         5357.000000   \n",
       "\n",
       "           amazon_amount_transaction_mean  \n",
       "user_code                                  \n",
       "cre6xrn2                       325.666667  \n",
       "cre7qfb9                       276.000000  \n",
       "cre7wqpv                       733.200000  \n",
       "cre7wqq1                       408.768421  \n",
       "cre7wqrq                      5357.000000  "
      ]
     },
     "execution_count": 859,
     "metadata": {},
     "output_type": "execute_result"
    }
   ],
   "source": [
    "integrated_amazon_users.head()"
   ]
  },
  {
   "cell_type": "code",
   "execution_count": 860,
   "metadata": {},
   "outputs": [],
   "source": [
    "inte_flip = flipkart.copy()\n",
    "inte_flip[\"in_both\"] = inte_flip[\"user_code\"].isin(users_both)\n",
    "inte_flip1 = inte_flip.loc[inte_flip[\"in_both\"] == True]\n",
    "inte_flip2 = inte_flip1.groupby(\"user_code\").sum()\n",
    "inte_flip3 = inte_flip2.drop(columns = [\"product_seq\", \"unit_price\", \"quantity\", \"postal_code\", \"in_both\"])\n",
    "inte_flip_final = inte_flip3.rename(columns = {\"amount\" : \"flip_amount_sum\", \"amount_transaction\" : \"flip_amount_transaction_sum\", \"num_or_purchases\" : \"flip_num_or_purchases\"})"
   ]
  },
  {
   "cell_type": "code",
   "execution_count": 861,
   "metadata": {},
   "outputs": [],
   "source": [
    "inte_flip_mean = inte_flip1.groupby(\"user_code\").mean()\n",
    "inte_flip_mean1 = inte_flip_mean.drop(columns = [\"product_seq\", \"unit_price\", \"quantity\", \"postal_code\", \"in_both\", \"num_or_purchases\"])\n",
    "inte_flip_meanF = inte_flip_mean1.rename(columns = {\"amount\" : \"flip_amount_mean\", \"amount_transaction\" : \"flip_amount_transaction_mean\", \"num_or_purchases\" : \"flip_num_or_purchases\"})"
   ]
  },
  {
   "cell_type": "code",
   "execution_count": 862,
   "metadata": {},
   "outputs": [],
   "source": [
    "integrated_flipkart_users = pd.merge(inte_flip_final, inte_flip_meanF, how = \"inner\", left_index = True, right_index = True)"
   ]
  },
  {
   "cell_type": "code",
   "execution_count": 863,
   "metadata": {},
   "outputs": [
    {
     "data": {
      "text/html": [
       "<div>\n",
       "<style scoped>\n",
       "    .dataframe tbody tr th:only-of-type {\n",
       "        vertical-align: middle;\n",
       "    }\n",
       "\n",
       "    .dataframe tbody tr th {\n",
       "        vertical-align: top;\n",
       "    }\n",
       "\n",
       "    .dataframe thead th {\n",
       "        text-align: right;\n",
       "    }\n",
       "</style>\n",
       "<table border=\"1\" class=\"dataframe\">\n",
       "  <thead>\n",
       "    <tr style=\"text-align: right;\">\n",
       "      <th></th>\n",
       "      <th>flip_amount_sum</th>\n",
       "      <th>flip_amount_transaction_sum</th>\n",
       "      <th>flip_num_or_purchases</th>\n",
       "      <th>flip_amount_mean</th>\n",
       "      <th>flip_amount_transaction_mean</th>\n",
       "    </tr>\n",
       "    <tr>\n",
       "      <th>user_code</th>\n",
       "      <th></th>\n",
       "      <th></th>\n",
       "      <th></th>\n",
       "      <th></th>\n",
       "      <th></th>\n",
       "    </tr>\n",
       "  </thead>\n",
       "  <tbody>\n",
       "    <tr>\n",
       "      <th>cre6xrn2</th>\n",
       "      <td>7999.0</td>\n",
       "      <td>7999.0</td>\n",
       "      <td>1</td>\n",
       "      <td>7999.000000</td>\n",
       "      <td>7999.000000</td>\n",
       "    </tr>\n",
       "    <tr>\n",
       "      <th>cre7qfb9</th>\n",
       "      <td>664.0</td>\n",
       "      <td>664.0</td>\n",
       "      <td>1</td>\n",
       "      <td>664.000000</td>\n",
       "      <td>664.000000</td>\n",
       "    </tr>\n",
       "    <tr>\n",
       "      <th>cre7wqpv</th>\n",
       "      <td>23998.0</td>\n",
       "      <td>22098.0</td>\n",
       "      <td>2</td>\n",
       "      <td>11999.000000</td>\n",
       "      <td>11049.000000</td>\n",
       "    </tr>\n",
       "    <tr>\n",
       "      <th>cre7wqq1</th>\n",
       "      <td>17780.0</td>\n",
       "      <td>16037.0</td>\n",
       "      <td>15</td>\n",
       "      <td>1185.333333</td>\n",
       "      <td>1069.133333</td>\n",
       "    </tr>\n",
       "    <tr>\n",
       "      <th>cre7wqrq</th>\n",
       "      <td>37801.0</td>\n",
       "      <td>31108.0</td>\n",
       "      <td>9</td>\n",
       "      <td>4200.111111</td>\n",
       "      <td>3456.444444</td>\n",
       "    </tr>\n",
       "  </tbody>\n",
       "</table>\n",
       "</div>"
      ],
      "text/plain": [
       "           flip_amount_sum  flip_amount_transaction_sum  \\\n",
       "user_code                                                 \n",
       "cre6xrn2            7999.0                       7999.0   \n",
       "cre7qfb9             664.0                        664.0   \n",
       "cre7wqpv           23998.0                      22098.0   \n",
       "cre7wqq1           17780.0                      16037.0   \n",
       "cre7wqrq           37801.0                      31108.0   \n",
       "\n",
       "           flip_num_or_purchases  flip_amount_mean  \\\n",
       "user_code                                            \n",
       "cre6xrn2                       1       7999.000000   \n",
       "cre7qfb9                       1        664.000000   \n",
       "cre7wqpv                       2      11999.000000   \n",
       "cre7wqq1                      15       1185.333333   \n",
       "cre7wqrq                       9       4200.111111   \n",
       "\n",
       "           flip_amount_transaction_mean  \n",
       "user_code                                \n",
       "cre6xrn2                    7999.000000  \n",
       "cre7qfb9                     664.000000  \n",
       "cre7wqpv                   11049.000000  \n",
       "cre7wqq1                    1069.133333  \n",
       "cre7wqrq                    3456.444444  "
      ]
     },
     "execution_count": 863,
     "metadata": {},
     "output_type": "execute_result"
    }
   ],
   "source": [
    "integrated_flipkart_users.head()"
   ]
  },
  {
   "cell_type": "code",
   "execution_count": 864,
   "metadata": {},
   "outputs": [
    {
     "data": {
      "text/html": [
       "<div>\n",
       "<style scoped>\n",
       "    .dataframe tbody tr th:only-of-type {\n",
       "        vertical-align: middle;\n",
       "    }\n",
       "\n",
       "    .dataframe tbody tr th {\n",
       "        vertical-align: top;\n",
       "    }\n",
       "\n",
       "    .dataframe thead th {\n",
       "        text-align: right;\n",
       "    }\n",
       "</style>\n",
       "<table border=\"1\" class=\"dataframe\">\n",
       "  <thead>\n",
       "    <tr style=\"text-align: right;\">\n",
       "      <th></th>\n",
       "      <th>amazon_amount_sum</th>\n",
       "      <th>amazon_amount_transaction_sum</th>\n",
       "      <th>amazon_num_or_purchases</th>\n",
       "      <th>amazon_amount_mean</th>\n",
       "      <th>amazon_amount_transaction_mean</th>\n",
       "    </tr>\n",
       "    <tr>\n",
       "      <th>user_code</th>\n",
       "      <th></th>\n",
       "      <th></th>\n",
       "      <th></th>\n",
       "      <th></th>\n",
       "      <th></th>\n",
       "    </tr>\n",
       "  </thead>\n",
       "  <tbody>\n",
       "    <tr>\n",
       "      <th>cre6xrn2</th>\n",
       "      <td>897.0</td>\n",
       "      <td>977.0</td>\n",
       "      <td>3</td>\n",
       "      <td>299.000000</td>\n",
       "      <td>325.666667</td>\n",
       "    </tr>\n",
       "    <tr>\n",
       "      <th>cre7qfb9</th>\n",
       "      <td>752.0</td>\n",
       "      <td>552.0</td>\n",
       "      <td>2</td>\n",
       "      <td>376.000000</td>\n",
       "      <td>276.000000</td>\n",
       "    </tr>\n",
       "    <tr>\n",
       "      <th>cre7wqpv</th>\n",
       "      <td>3094.0</td>\n",
       "      <td>3666.0</td>\n",
       "      <td>5</td>\n",
       "      <td>618.800000</td>\n",
       "      <td>733.200000</td>\n",
       "    </tr>\n",
       "    <tr>\n",
       "      <th>cre7wqq1</th>\n",
       "      <td>22793.3</td>\n",
       "      <td>23299.8</td>\n",
       "      <td>57</td>\n",
       "      <td>399.882456</td>\n",
       "      <td>408.768421</td>\n",
       "    </tr>\n",
       "    <tr>\n",
       "      <th>cre7wqrq</th>\n",
       "      <td>10714.0</td>\n",
       "      <td>10714.0</td>\n",
       "      <td>2</td>\n",
       "      <td>5357.000000</td>\n",
       "      <td>5357.000000</td>\n",
       "    </tr>\n",
       "  </tbody>\n",
       "</table>\n",
       "</div>"
      ],
      "text/plain": [
       "           amazon_amount_sum  amazon_amount_transaction_sum  \\\n",
       "user_code                                                     \n",
       "cre6xrn2               897.0                          977.0   \n",
       "cre7qfb9               752.0                          552.0   \n",
       "cre7wqpv              3094.0                         3666.0   \n",
       "cre7wqq1             22793.3                        23299.8   \n",
       "cre7wqrq             10714.0                        10714.0   \n",
       "\n",
       "           amazon_num_or_purchases  amazon_amount_mean  \\\n",
       "user_code                                                \n",
       "cre6xrn2                         3          299.000000   \n",
       "cre7qfb9                         2          376.000000   \n",
       "cre7wqpv                         5          618.800000   \n",
       "cre7wqq1                        57          399.882456   \n",
       "cre7wqrq                         2         5357.000000   \n",
       "\n",
       "           amazon_amount_transaction_mean  \n",
       "user_code                                  \n",
       "cre6xrn2                       325.666667  \n",
       "cre7qfb9                       276.000000  \n",
       "cre7wqpv                       733.200000  \n",
       "cre7wqq1                       408.768421  \n",
       "cre7wqrq                      5357.000000  "
      ]
     },
     "execution_count": 864,
     "metadata": {},
     "output_type": "execute_result"
    }
   ],
   "source": [
    "integrated_amazon_users.head()"
   ]
  },
  {
   "cell_type": "code",
   "execution_count": 885,
   "metadata": {},
   "outputs": [],
   "source": [
    "integrated_users = pd.merge(integrated_amazon_users, integrated_flipkart_users, how = \"inner\", left_index = True, right_index = True)\n",
    "integrated_users[\"ama_less_flip_num_purch\"] = integrated_users[\"amazon_num_or_purchases\"] - integrated_users[\"flip_num_or_purchases\"]\n",
    "integrated_users[\"ama_less_flip_mean_amount\"] = integrated_users[\"amazon_amount_mean\"] - integrated_users[\"flip_amount_mean\"]\n",
    "integrated_users[\"ama_less_flip_amount_sum\"] = integrated_users[\"amazon_amount_sum\"] - integrated_users[\"flip_amount_sum\"]"
   ]
  },
  {
   "cell_type": "code",
   "execution_count": 886,
   "metadata": {},
   "outputs": [
    {
     "data": {
      "text/html": [
       "<div>\n",
       "<style scoped>\n",
       "    .dataframe tbody tr th:only-of-type {\n",
       "        vertical-align: middle;\n",
       "    }\n",
       "\n",
       "    .dataframe tbody tr th {\n",
       "        vertical-align: top;\n",
       "    }\n",
       "\n",
       "    .dataframe thead th {\n",
       "        text-align: right;\n",
       "    }\n",
       "</style>\n",
       "<table border=\"1\" class=\"dataframe\">\n",
       "  <thead>\n",
       "    <tr style=\"text-align: right;\">\n",
       "      <th></th>\n",
       "      <th>amazon_amount_sum</th>\n",
       "      <th>amazon_amount_transaction_sum</th>\n",
       "      <th>amazon_num_or_purchases</th>\n",
       "      <th>amazon_amount_mean</th>\n",
       "      <th>amazon_amount_transaction_mean</th>\n",
       "      <th>flip_amount_sum</th>\n",
       "      <th>flip_amount_transaction_sum</th>\n",
       "      <th>flip_num_or_purchases</th>\n",
       "      <th>flip_amount_mean</th>\n",
       "      <th>flip_amount_transaction_mean</th>\n",
       "      <th>ama_less_flip_num_purch</th>\n",
       "      <th>ama_less_flip_mean_amount</th>\n",
       "      <th>ama_less_flip_amount_sum</th>\n",
       "    </tr>\n",
       "    <tr>\n",
       "      <th>user_code</th>\n",
       "      <th></th>\n",
       "      <th></th>\n",
       "      <th></th>\n",
       "      <th></th>\n",
       "      <th></th>\n",
       "      <th></th>\n",
       "      <th></th>\n",
       "      <th></th>\n",
       "      <th></th>\n",
       "      <th></th>\n",
       "      <th></th>\n",
       "      <th></th>\n",
       "      <th></th>\n",
       "    </tr>\n",
       "  </thead>\n",
       "  <tbody>\n",
       "    <tr>\n",
       "      <th>cre6xrn2</th>\n",
       "      <td>897.0</td>\n",
       "      <td>977.0</td>\n",
       "      <td>3</td>\n",
       "      <td>299.000000</td>\n",
       "      <td>325.666667</td>\n",
       "      <td>7999.0</td>\n",
       "      <td>7999.0</td>\n",
       "      <td>1</td>\n",
       "      <td>7999.000000</td>\n",
       "      <td>7999.000000</td>\n",
       "      <td>2</td>\n",
       "      <td>-7700.000000</td>\n",
       "      <td>-7102.0</td>\n",
       "    </tr>\n",
       "    <tr>\n",
       "      <th>cre7qfb9</th>\n",
       "      <td>752.0</td>\n",
       "      <td>552.0</td>\n",
       "      <td>2</td>\n",
       "      <td>376.000000</td>\n",
       "      <td>276.000000</td>\n",
       "      <td>664.0</td>\n",
       "      <td>664.0</td>\n",
       "      <td>1</td>\n",
       "      <td>664.000000</td>\n",
       "      <td>664.000000</td>\n",
       "      <td>1</td>\n",
       "      <td>-288.000000</td>\n",
       "      <td>88.0</td>\n",
       "    </tr>\n",
       "    <tr>\n",
       "      <th>cre7wqpv</th>\n",
       "      <td>3094.0</td>\n",
       "      <td>3666.0</td>\n",
       "      <td>5</td>\n",
       "      <td>618.800000</td>\n",
       "      <td>733.200000</td>\n",
       "      <td>23998.0</td>\n",
       "      <td>22098.0</td>\n",
       "      <td>2</td>\n",
       "      <td>11999.000000</td>\n",
       "      <td>11049.000000</td>\n",
       "      <td>3</td>\n",
       "      <td>-11380.200000</td>\n",
       "      <td>-20904.0</td>\n",
       "    </tr>\n",
       "    <tr>\n",
       "      <th>cre7wqq1</th>\n",
       "      <td>22793.3</td>\n",
       "      <td>23299.8</td>\n",
       "      <td>57</td>\n",
       "      <td>399.882456</td>\n",
       "      <td>408.768421</td>\n",
       "      <td>17780.0</td>\n",
       "      <td>16037.0</td>\n",
       "      <td>15</td>\n",
       "      <td>1185.333333</td>\n",
       "      <td>1069.133333</td>\n",
       "      <td>42</td>\n",
       "      <td>-785.450877</td>\n",
       "      <td>5013.3</td>\n",
       "    </tr>\n",
       "    <tr>\n",
       "      <th>cre7wqrq</th>\n",
       "      <td>10714.0</td>\n",
       "      <td>10714.0</td>\n",
       "      <td>2</td>\n",
       "      <td>5357.000000</td>\n",
       "      <td>5357.000000</td>\n",
       "      <td>37801.0</td>\n",
       "      <td>31108.0</td>\n",
       "      <td>9</td>\n",
       "      <td>4200.111111</td>\n",
       "      <td>3456.444444</td>\n",
       "      <td>-7</td>\n",
       "      <td>1156.888889</td>\n",
       "      <td>-27087.0</td>\n",
       "    </tr>\n",
       "  </tbody>\n",
       "</table>\n",
       "</div>"
      ],
      "text/plain": [
       "           amazon_amount_sum  amazon_amount_transaction_sum  \\\n",
       "user_code                                                     \n",
       "cre6xrn2               897.0                          977.0   \n",
       "cre7qfb9               752.0                          552.0   \n",
       "cre7wqpv              3094.0                         3666.0   \n",
       "cre7wqq1             22793.3                        23299.8   \n",
       "cre7wqrq             10714.0                        10714.0   \n",
       "\n",
       "           amazon_num_or_purchases  amazon_amount_mean  \\\n",
       "user_code                                                \n",
       "cre6xrn2                         3          299.000000   \n",
       "cre7qfb9                         2          376.000000   \n",
       "cre7wqpv                         5          618.800000   \n",
       "cre7wqq1                        57          399.882456   \n",
       "cre7wqrq                         2         5357.000000   \n",
       "\n",
       "           amazon_amount_transaction_mean  flip_amount_sum  \\\n",
       "user_code                                                    \n",
       "cre6xrn2                       325.666667           7999.0   \n",
       "cre7qfb9                       276.000000            664.0   \n",
       "cre7wqpv                       733.200000          23998.0   \n",
       "cre7wqq1                       408.768421          17780.0   \n",
       "cre7wqrq                      5357.000000          37801.0   \n",
       "\n",
       "           flip_amount_transaction_sum  flip_num_or_purchases  \\\n",
       "user_code                                                       \n",
       "cre6xrn2                        7999.0                      1   \n",
       "cre7qfb9                         664.0                      1   \n",
       "cre7wqpv                       22098.0                      2   \n",
       "cre7wqq1                       16037.0                     15   \n",
       "cre7wqrq                       31108.0                      9   \n",
       "\n",
       "           flip_amount_mean  flip_amount_transaction_mean  \\\n",
       "user_code                                                   \n",
       "cre6xrn2        7999.000000                   7999.000000   \n",
       "cre7qfb9         664.000000                    664.000000   \n",
       "cre7wqpv       11999.000000                  11049.000000   \n",
       "cre7wqq1        1185.333333                   1069.133333   \n",
       "cre7wqrq        4200.111111                   3456.444444   \n",
       "\n",
       "           ama_less_flip_num_purch  ama_less_flip_mean_amount  \\\n",
       "user_code                                                       \n",
       "cre6xrn2                         2               -7700.000000   \n",
       "cre7qfb9                         1                -288.000000   \n",
       "cre7wqpv                         3              -11380.200000   \n",
       "cre7wqq1                        42                -785.450877   \n",
       "cre7wqrq                        -7                1156.888889   \n",
       "\n",
       "           ama_less_flip_amount_sum  \n",
       "user_code                            \n",
       "cre6xrn2                    -7102.0  \n",
       "cre7qfb9                       88.0  \n",
       "cre7wqpv                   -20904.0  \n",
       "cre7wqq1                     5013.3  \n",
       "cre7wqrq                   -27087.0  "
      ]
     },
     "execution_count": 886,
     "metadata": {},
     "output_type": "execute_result"
    }
   ],
   "source": [
    "integrated_users.head()"
   ]
  },
  {
   "cell_type": "code",
   "execution_count": 893,
   "metadata": {},
   "outputs": [
    {
     "data": {
      "text/plain": [
       "79691146.75999999"
      ]
     },
     "execution_count": 893,
     "metadata": {},
     "output_type": "execute_result"
    }
   ],
   "source": [
    "integrated_users[\"amazon_amount_sum\"].sum()"
   ]
  },
  {
   "cell_type": "code",
   "execution_count": 894,
   "metadata": {},
   "outputs": [
    {
     "data": {
      "text/plain": [
       "96110725.0"
      ]
     },
     "execution_count": 894,
     "metadata": {},
     "output_type": "execute_result"
    }
   ],
   "source": [
    "integrated_users[\"flip_amount_sum\"].sum()"
   ]
  },
  {
   "cell_type": "code",
   "execution_count": null,
   "metadata": {},
   "outputs": [],
   "source": [
    "#Amazon more purchases less total revenue"
   ]
  },
  {
   "cell_type": "code",
   "execution_count": 898,
   "metadata": {},
   "outputs": [
    {
     "data": {
      "text/plain": [
       "52603"
      ]
     },
     "execution_count": 898,
     "metadata": {},
     "output_type": "execute_result"
    }
   ],
   "source": [
    "integrated_users[\"amazon_num_or_purchases\"].sum()"
   ]
  },
  {
   "cell_type": "code",
   "execution_count": 896,
   "metadata": {},
   "outputs": [
    {
     "data": {
      "text/plain": [
       "48029"
      ]
     },
     "execution_count": 896,
     "metadata": {},
     "output_type": "execute_result"
    }
   ],
   "source": [
    "integrated_users[\"flip_num_or_purchases\"].sum()"
   ]
  },
  {
   "cell_type": "code",
   "execution_count": 1084,
   "metadata": {},
   "outputs": [
    {
     "data": {
      "text/plain": [
       "count     5400.000000\n",
       "mean      2124.076108\n",
       "std       3960.986755\n",
       "min          0.000000\n",
       "25%        424.000000\n",
       "50%        757.711071\n",
       "75%       1955.412680\n",
       "max      96900.000000\n",
       "Name: amazon_amount_mean, dtype: float64"
      ]
     },
     "execution_count": 1084,
     "metadata": {},
     "output_type": "execute_result"
    }
   ],
   "source": [
    "integrated_users[\"amazon_amount_mean\"].describe()"
   ]
  },
  {
   "cell_type": "code",
   "execution_count": 1085,
   "metadata": {},
   "outputs": [
    {
     "data": {
      "text/plain": [
       "count     5400.000000\n",
       "mean      3089.273488\n",
       "std       5128.014352\n",
       "min          1.000000\n",
       "25%        465.375000\n",
       "50%       1114.625000\n",
       "75%       3520.601818\n",
       "max      87510.500000\n",
       "Name: flip_amount_mean, dtype: float64"
      ]
     },
     "execution_count": 1085,
     "metadata": {},
     "output_type": "execute_result"
    }
   ],
   "source": [
    "integrated_users[\"flip_amount_mean\"].describe()"
   ]
  },
  {
   "cell_type": "code",
   "execution_count": 877,
   "metadata": {},
   "outputs": [
    {
     "data": {
      "text/plain": [
       "count    5400.000000\n",
       "mean        0.847037\n",
       "std        19.122787\n",
       "min      -220.000000\n",
       "25%        -4.000000\n",
       "50%         0.000000\n",
       "75%         5.000000\n",
       "max       201.000000\n",
       "Name: ama_less_flip_num_purch, dtype: float64"
      ]
     },
     "execution_count": 877,
     "metadata": {},
     "output_type": "execute_result"
    }
   ],
   "source": [
    "integrated_users[\"ama_less_flip_num_purch\"].describe()"
   ]
  },
  {
   "cell_type": "code",
   "execution_count": 878,
   "metadata": {},
   "outputs": [
    {
     "data": {
      "text/plain": [
       "count     5400.000000\n",
       "mean      -965.197380\n",
       "std       5873.452725\n",
       "min     -55325.555556\n",
       "25%      -1828.443182\n",
       "50%       -158.928571\n",
       "75%        490.458239\n",
       "max      60651.333333\n",
       "Name: ama_less_flip_mean_amount, dtype: float64"
      ]
     },
     "execution_count": 878,
     "metadata": {},
     "output_type": "execute_result"
    }
   ],
   "source": [
    "integrated_users[\"ama_less_flip_mean_amount\"].describe()"
   ]
  },
  {
   "cell_type": "code",
   "execution_count": 902,
   "metadata": {},
   "outputs": [],
   "source": [
    "#Checking top amazon users what they are buying from flip"
   ]
  },
  {
   "cell_type": "code",
   "execution_count": 996,
   "metadata": {},
   "outputs": [],
   "source": [
    "top_1000_amazon_inte_users = list(inte_amazon_final.sort_values(\"amazon_num_or_purchases\", ascending = False).index)[0:1000]\n",
    "top_1000_flipkart_inte_users = list(inte_flip_final.sort_values(\"flip_num_or_purchases\", ascending = False).index)[0:1000]"
   ]
  },
  {
   "cell_type": "code",
   "execution_count": 997,
   "metadata": {},
   "outputs": [],
   "source": [
    "data_for_1000 = vumonic_data.loc[:, [\"user_code\", \"category\", \"cat0\", \"amount\", \"platform\", \"quantity\"]]\n",
    "data_for_1000_a = data_for_1000.copy()\n",
    "data_for_1000_f = data_for_1000.copy()"
   ]
  },
  {
   "cell_type": "code",
   "execution_count": 998,
   "metadata": {},
   "outputs": [],
   "source": [
    "data_for_1000_a[\"top_1000_amazon\"] = data_for_1000_a[\"user_code\"].isin(top_1000_amazon_inte_users )\n",
    "top_1000_amazon = data_for_1000_a.loc[data_for_1000_a[\"top_1000_amazon\"] == True]\n",
    "\n",
    "data_for_1000_f[\"top_1000_flipkart\"] = data_for_1000_f[\"user_code\"].isin(top_1000_flipkart_inte_users )\n",
    "top_1000_flipkart = data_for_1000_f.loc[data_for_1000_f[\"top_1000_flipkart\"] == True]"
   ]
  },
  {
   "cell_type": "code",
   "execution_count": 1011,
   "metadata": {},
   "outputs": [],
   "source": [
    "top_1000_a_from_f = top_1000_amazon.loc[top_1000_amazon[\"platform\"] == \"flipkart\"].groupby(\"cat0\").sum().reset_index().sort_values(\"amount\", ascending = False)\n",
    "top_1000_f_from_a = top_1000_flipkart.loc[top_1000_flipkart[\"platform\"] == \"amazon\"].groupby(\"cat0\").sum().reset_index().sort_values(\"amount\", ascending = False)"
   ]
  },
  {
   "cell_type": "code",
   "execution_count": 1016,
   "metadata": {},
   "outputs": [],
   "source": [
    "amazon_top_flip_cat = list(top_1000_a_from_f[\"cat0\"])\n",
    "amazon_top_flip_amount = list(top_1000_a_from_f[\"amount\"])\n",
    "\n",
    "flip_top_amazon_cat = list(top_1000_f_from_a[\"cat0\"])\n",
    "flip_top_amazon_amount = list(top_1000_f_from_a[\"amount\"])"
   ]
  },
  {
   "cell_type": "code",
   "execution_count": 1098,
   "metadata": {},
   "outputs": [
    {
     "data": {
      "text/plain": [
       "Text(0.5, 1.0, \"    Amazon's Top Customers' Spending on Flipkart, by Category\")"
      ]
     },
     "execution_count": 1098,
     "metadata": {},
     "output_type": "execute_result"
    },
    {
     "data": {
      "image/png": "[encoded data removed]",
      "text/plain": [
       "<Figure size 576x432 with 1 Axes>"
      ]
     },
     "metadata": {
      "needs_background": "light"
     },
     "output_type": "display_data"
    }
   ],
   "source": [
    "plt.subplots(figsize=(8, 6))\n",
    "plt.bar(amazon_top_flip_cat, amazon_top_flip_amount)\n",
    "plt.xticks(amazon_top_flip_cat, rotation=90)\n",
    "plt.ylabel(\"Millions of Rupees\", fontsize = 14)\n",
    "plt.title(\"    Amazon's Top Customers' Spending on Flipkart, by Category\", fontsize = 14)"
   ]
  },
  {
   "cell_type": "code",
   "execution_count": 1100,
   "metadata": {},
   "outputs": [
    {
     "data": {
      "text/plain": [
       "Text(0.5, 1.0, \"    Flipkart's Top Customers' Spending on Amazon, by Category\")"
      ]
     },
     "execution_count": 1100,
     "metadata": {},
     "output_type": "execute_result"
    },
    {
     "data": {
      "image/png": "[encoded data removed]",
      "text/plain": [
       "<Figure size 576x432 with 1 Axes>"
      ]
     },
     "metadata": {
      "needs_background": "light"
     },
     "output_type": "display_data"
    }
   ],
   "source": [
    "plt.subplots(figsize=(8, 6))\n",
    "plt.bar(flip_top_amazon_cat, flip_top_amazon_amount)\n",
    "plt.xticks(flip_top_amazon_cat, rotation=90)\n",
    "plt.ylabel(\"Millions of Rupees\", fontsize = 14)\n",
    "plt.title(\"    Flipkart's Top Customers' Spending on Amazon, by Category\", fontsize = 14)"
   ]
  },
  {
   "cell_type": "code",
   "execution_count": 1149,
   "metadata": {},
   "outputs": [],
   "source": [
    "#By smaller category"
   ]
  },
  {
   "cell_type": "code",
   "execution_count": 1152,
   "metadata": {},
   "outputs": [],
   "source": [
    "top_1000_a_from_f_cat = top_1000_amazon.loc[top_1000_amazon[\"platform\"] == \"flipkart\"].groupby(\"category\").sum().reset_index().sort_values(\"amount\", ascending = False)\n",
    "top_1000_f_from_a_cat = top_1000_flipkart.loc[top_1000_flipkart[\"platform\"] == \"amazon\"].groupby(\"category\").sum().reset_index().sort_values(\"amount\", ascending = False)"
   ]
  },
  {
   "cell_type": "code",
   "execution_count": 1168,
   "metadata": {},
   "outputs": [],
   "source": [
    "a_top_f_cat = list(top_1000_a_from_f_cat.head(20)[\"category\"])\n",
    "a_top_f_amount = list(top_1000_a_from_f_cat.head(20)[\"amount\"])\n",
    "\n",
    "f_top_a_cat = list(top_1000_f_from_a_cat.head(20)[\"category\"])\n",
    "f_top_a_amount = list(top_1000_f_from_a_cat.head(20)[\"amount\"])"
   ]
  },
  {
   "cell_type": "code",
   "execution_count": 1179,
   "metadata": {},
   "outputs": [],
   "source": [
    "ama_top_flip_amt = pd.Series(a_top_f_amount)/1000000\n",
    "flip_top_ama_amt = pd.Series(f_top_a_amount)/1000000"
   ]
  },
  {
   "cell_type": "code",
   "execution_count": 1302,
   "metadata": {},
   "outputs": [
    {
     "data": {
      "text/plain": [
       "19.972023999999998"
      ]
     },
     "execution_count": 1302,
     "metadata": {},
     "output_type": "execute_result"
    }
   ],
   "source": [
    "ama_top_flip_amt.sum()"
   ]
  },
  {
   "cell_type": "code",
   "execution_count": 1303,
   "metadata": {},
   "outputs": [
    {
     "data": {
      "text/plain": [
       "15.38082955"
      ]
     },
     "execution_count": 1303,
     "metadata": {},
     "output_type": "execute_result"
    }
   ],
   "source": [
    "flip_top_ama_amt.sum()"
   ]
  },
  {
   "cell_type": "code",
   "execution_count": 1181,
   "metadata": {},
   "outputs": [
    {
     "data": {
      "text/plain": [
       "Text(0.5, 1.0, \"    Amazon's Top Customers' Spending on Flipkart, by Category\")"
      ]
     },
     "execution_count": 1181,
     "metadata": {},
     "output_type": "execute_result"
    },
    {
     "data": {
      "image/png": "[encoded data removed]",
      "text/plain": [
       "<Figure size 576x432 with 1 Axes>"
      ]
     },
     "metadata": {
      "needs_background": "light"
     },
     "output_type": "display_data"
    }
   ],
   "source": [
    "plt.subplots(figsize=(8, 6))\n",
    "plt.bar(a_top_f_cat, ama_top_flip_amt)\n",
    "plt.xticks(a_top_f_cat, rotation=90)\n",
    "plt.ylabel(\"Millions of Rupees\", fontsize = 14)\n",
    "plt.title(\"    Amazon's Top Customers' Spending on Flipkart, by Category\", fontsize = 14)"
   ]
  },
  {
   "cell_type": "code",
   "execution_count": 1304,
   "metadata": {},
   "outputs": [
    {
     "data": {
      "text/plain": [
       "Text(0.5, 1.0, \"    Flipkart's Top Customers' Spending on Amazon, by Category\")"
      ]
     },
     "execution_count": 1304,
     "metadata": {},
     "output_type": "execute_result"
    },
    {
     "data": {
      "image/png": "[encoded data removed]",
      "text/plain": [
       "<Figure size 576x432 with 1 Axes>"
      ]
     },
     "metadata": {
      "needs_background": "light"
     },
     "output_type": "display_data"
    }
   ],
   "source": [
    "plt.subplots(figsize=(8, 6))\n",
    "plt.bar(f_top_a_cat, flip_top_ama_amt)\n",
    "plt.xticks(f_top_a_cat, rotation=90)\n",
    "plt.ylabel(\"Millions of Rupees\", fontsize = 14)\n",
    "plt.title(\"    Flipkart's Top Customers' Spending on Amazon, by Category\", fontsize = 14)"
   ]
  },
  {
   "cell_type": "code",
   "execution_count": null,
   "metadata": {},
   "outputs": [],
   "source": [
    "flipkart"
   ]
  }
 ],
 "metadata": {
  "kernelspec": {
   "display_name": "Python 3",
   "language": "python",
   "name": "python3"
  },
  "language_info": {
   "codemirror_mode": {
    "name": "ipython",
    "version": 3
   },
   "file_extension": ".py",
   "mimetype": "text/x-python",
   "name": "python",
   "nbconvert_exporter": "python",
   "pygments_lexer": "ipython3",
   "version": "3.8.3"
  }
 },
 "nbformat": 4,
 "nbformat_minor": 4
}
